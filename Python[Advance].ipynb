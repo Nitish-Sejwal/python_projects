{
 "cells": [
  {
   "cell_type": "code",
   "execution_count": 8,
   "id": "289138d1-c28d-4752-b1d2-bd592f5a5ce8",
   "metadata": {},
   "outputs": [
    {
     "name": "stdin",
     "output_type": "stream",
     "text": [
      "Enter numbers separated by space:  12 4 34 34 44\n"
     ]
    },
    {
     "name": "stdout",
     "output_type": "stream",
     "text": [
      "List: [12, 4, 34, 34, 44]\n",
      "Squared list: [144, 16, 1156, 1156, 1936]\n"
     ]
    }
   ],
   "source": [
    "#lambda function to square all elements\n",
    "lst = list(map(int, input(\"Enter numbers separated by space: \").split()))\n",
    "squared = list(map(lambda x: x ** 2, lst))\n",
    "print(\"List:\",lst)\n",
    "print(\"Squared list:\", squared)\n"
   ]
  },
  {
   "cell_type": "code",
   "execution_count": 4,
   "id": "2de02749-1ba4-447c-a7eb-21c1c9fed78d",
   "metadata": {},
   "outputs": [
    {
     "name": "stdout",
     "output_type": "stream",
     "text": [
      "[2, 3, 5, 7, 11, 13, 17, 19, 23, 29, 31, 37, 41, 43, 47, 53, 59, 61, 67, 71, 73, 79, 83, 89, 97]\n"
     ]
    }
   ],
   "source": [
    "#returns prime numbers from 1 to 100\n",
    "print([n for n in range(2, 101) if all(n % i != 0 for i in range(2, int(n**0.5)+1))])\n"
   ]
  },
  {
   "cell_type": "code",
   "execution_count": 7,
   "id": "80f172d2-a4c0-4cf7-8dd9-1252e3a9f8f4",
   "metadata": {},
   "outputs": [
    {
     "name": "stdout",
     "output_type": "stream",
     "text": [
      "\n",
      "Select operation:\n",
      "1. Add\n",
      "2. Subtract\n",
      "3. Multiply\n",
      "4. Divide\n",
      "5. Exit\n"
     ]
    },
    {
     "name": "stdin",
     "output_type": "stream",
     "text": [
      "Enter choice (1/2/3/4/5):  5\n"
     ]
    },
    {
     "name": "stdout",
     "output_type": "stream",
     "text": [
      "Exiting calculator....\n"
     ]
    }
   ],
   "source": [
    "#calculator using functions\n",
    "def add(a, b):\n",
    "    return a + b\n",
    "\n",
    "def subtract(a, b):\n",
    "    return a - b\n",
    "\n",
    "def multiply(a, b):\n",
    "    return a * b\n",
    "\n",
    "def divide(a, b):\n",
    "    if b == 0:\n",
    "        return \"Error! Division by zero.\"\n",
    "    return a / b\n",
    "def calculator():\n",
    "    while True:\n",
    "        print(\"\\nSelect operation:\")\n",
    "        print(\"1. Add\")\n",
    "        print(\"2. Subtract\")\n",
    "        print(\"3. Multiply\")\n",
    "        print(\"4. Divide\")\n",
    "        print(\"5. Exit\")\n",
    "\n",
    "        choice = input(\"Enter choice (1/2/3/4/5): \")\n",
    "\n",
    "        if choice == '5':\n",
    "            print(\"Exiting calculator....\")\n",
    "            break\n",
    "\n",
    "        if choice in ('1', '2', '3', '4'):\n",
    "            try:\n",
    "                a = float(input(\"Enter first number: \"))\n",
    "                b = float(input(\"Enter second number: \"))\n",
    "            except ValueError:\n",
    "                print(\"Invalid number input.\")\n",
    "                continue\n",
    "\n",
    "            if choice == '1':\n",
    "                print(f\"Result: {add(a, b)}\")\n",
    "            elif choice == '2':\n",
    "                print(f\"Result: {subtract(a, b)}\")\n",
    "            elif choice == '3':\n",
    "                print(f\"Result: {multiply(a, b)}\")\n",
    "            elif choice == '4':\n",
    "                print(f\"Result: {divide(a, b)}\")\n",
    "        else:\n",
    "            print(\"Invalid input. Please choose between 1-5.\")\n",
    "\n",
    "calculator()\n"
   ]
  },
  {
   "cell_type": "code",
   "execution_count": 9,
   "id": "04693e6e-43e0-441f-98a6-208624ddba5d",
   "metadata": {},
   "outputs": [
    {
     "name": "stdin",
     "output_type": "stream",
     "text": [
      "Enter a number :  5\n"
     ]
    },
    {
     "name": "stdout",
     "output_type": "stream",
     "text": [
      "factorial of 5 is 120\n"
     ]
    }
   ],
   "source": [
    "#Implement a recursive function to compute factorial\n",
    "n = int(input(\"Enter a number : \"))\n",
    "def fact(n):\n",
    "    if(n==0 or n==1):\n",
    "        return 1\n",
    "    else:\n",
    "        return n * fact(n-1)\n",
    "print(f\"factorial of {n} is {fact(n)}\")"
   ]
  },
  {
   "cell_type": "code",
   "execution_count": 11,
   "id": "d974b3f3-079e-4b4f-b38b-d66eccc855d3",
   "metadata": {},
   "outputs": [
    {
     "name": "stdin",
     "output_type": "stream",
     "text": [
      "How many students?  1\n",
      "Name:  x\n",
      "Roll:  4\n",
      "Grade:  23\n"
     ]
    },
    {
     "name": "stdout",
     "output_type": "stream",
     "text": [
      "\n",
      "--- Student List ---\n",
      "x | Roll: 4 | Grade: 23\n"
     ]
    }
   ],
   "source": [
    "# using OOP for student management (class, object, init)\n",
    "class Student:\n",
    "    def __init__(self, name, roll, grade):\n",
    "        self.name, self.roll, self.grade = name, roll, grade\n",
    "\n",
    "    def show(self):\n",
    "        print(f\"{self.name} | Roll: {self.roll} | Grade: {self.grade}\")\n",
    "\n",
    "students = [Student(input(\"Name: \"), input(\"Roll: \"), input(\"Grade: \")) for _ in range(int(input(\"How many students? \")))]\n",
    "\n",
    "print(\"\\n--- Student List ---\")\n",
    "for s in students:\n",
    "    s.show()\n"
   ]
  },
  {
   "cell_type": "code",
   "execution_count": 1,
   "id": "e1a0f352-79c1-4bdb-bff3-0b04ebf0a8d1",
   "metadata": {},
   "outputs": [
    {
     "name": "stdout",
     "output_type": "stream",
     "text": [
      "Nitish's Account Balance: 1000000\n",
      "Deposited 111500. New Balance: 1111500\n",
      "Withdrew 31100. New Balance: 1080400\n",
      "Withdrew 111500. New Balance: 968900\n"
     ]
    }
   ],
   "source": [
    "#class BankAccount with deposit and withdraw methods\n",
    "class BankAccount:\n",
    "    def __init__(self, owner, balance=0):\n",
    "        self.owner = owner\n",
    "        self.balance = balance\n",
    "\n",
    "    def deposit(self, amount):\n",
    "        self.balance += amount\n",
    "        print(f\"Deposited {amount}. New Balance: {self.balance}\")\n",
    "\n",
    "    def withdraw(self, amount):\n",
    "        if amount > self.balance:\n",
    "            print(\"Insufficient funds.\")\n",
    "        else:\n",
    "            self.balance -= amount\n",
    "            print(f\"Withdrew {amount}. New Balance: {self.balance}\")\n",
    "\n",
    "    def display(self):\n",
    "        print(f\"{self.owner}'s Account Balance: {self.balance}\")\n",
    "acc = BankAccount(\"Nitish\", 1000000)\n",
    "\n",
    "acc.display()\n",
    "acc.deposit(111500)\n",
    "acc.withdraw(31100)\n",
    "acc.withdraw(111500)"
   ]
  },
  {
   "cell_type": "code",
   "execution_count": 2,
   "id": "011f878f-bf8e-4d26-af69-39789675fdc0",
   "metadata": {},
   "outputs": [
    {
     "name": "stdout",
     "output_type": "stream",
     "text": [
      "2 4 6 8 10 12 14 16 18 20 22 24 26 28 30 32 34 36 38 40 42 44 46 48 50 "
     ]
    }
   ],
   "source": [
    "#generator to yield even numbers from 1 to n\n",
    "def evens(n): yield from range(2, n+1, 2)\n",
    "for i in evens(50): print(i, end=' ')"
   ]
  },
  {
   "cell_type": "code",
   "execution_count": 3,
   "id": "ede9e788-fe10-4f1d-81c4-786b6f33737b",
   "metadata": {},
   "outputs": [
    {
     "name": "stdout",
     "output_type": "stream",
     "text": [
      "Positional arguments (args): (1, 2, 3)\n",
      "Keyword arguments (kwargs): {'name': 'Nitish'}\n"
     ]
    }
   ],
   "source": [
    "#using *args and **kwargs to print any number of arguments\n",
    "def printt(*args, **kwargs):\n",
    "    print(\"Positional arguments (args):\", args)\n",
    "    print(\"Keyword arguments (kwargs):\", kwargs)\n",
    "printt(1, 2, 3, name=\"Nitish\")"
   ]
  },
  {
   "cell_type": "code",
   "execution_count": 4,
   "id": "71f54be4-7d0e-4bdf-b6da-b18f5cff6206",
   "metadata": {},
   "outputs": [
    {
     "name": "stdout",
     "output_type": "stream",
     "text": [
      "[4, 16, 36, 64, 100, 144, 196, 256, 324, 400]\n"
     ]
    }
   ],
   "source": [
    "#using compression\n",
    "squares = [x**2 for x in range(2, 21, 2)]\n",
    "print(squares)"
   ]
  },
  {
   "cell_type": "code",
   "execution_count": 6,
   "id": "7e1c38c2-984e-4f6e-bf12-cd9aa1882601",
   "metadata": {},
   "outputs": [
    {
     "name": "stdin",
     "output_type": "stream",
     "text": [
      "Enter numbers separated by space:  1 1 1 22 2 22 2 33 3 3 33\n"
     ]
    },
    {
     "data": {
      "text/plain": [
       "[1, 2, 3, 33, 22]"
      ]
     },
     "execution_count": 6,
     "metadata": {},
     "output_type": "execute_result"
    }
   ],
   "source": [
    "#Create a function that takes a list and returns only unique elements.\n",
    "def unique_n(lst):\n",
    "    return list(set(lst))\n",
    "unique_n(lst = list(map(int, input(\"Enter numbers separated by space: \").split())))\n",
    "    "
   ]
  },
  {
   "cell_type": "code",
   "execution_count": 7,
   "id": "3ae5de70-ead3-4f24-8b0b-db29d5c1cf6b",
   "metadata": {},
   "outputs": [
    {
     "name": "stdout",
     "output_type": "stream",
     "text": [
      "{'a': 1, 'b': 3, 'c': 4}\n"
     ]
    }
   ],
   "source": [
    "#merge dictionaries\n",
    "d1 = {'a': 1, 'b': 2}\n",
    "d2 = {'b': 3, 'c': 4}\n",
    "\n",
    "d1.update(d2)\n",
    "print(d1)\n"
   ]
  },
  {
   "cell_type": "code",
   "execution_count": 10,
   "id": "2b2e5756-c7d6-4547-aba5-f54a568e4bd7",
   "metadata": {},
   "outputs": [
    {
     "name": "stdout",
     "output_type": "stream",
     "text": [
      "Sending a generic message...\n",
      "Sending an email...\n"
     ]
    }
   ],
   "source": [
    "#Create a class that inherits from another class and overrides a method\n",
    "class Message:\n",
    "    def send(self):\n",
    "        print(\"Sending a generic message...\")\n",
    "\n",
    "class Email(Message):\n",
    "    def send(self):\n",
    "        print(\"Sending an email...\")\n",
    "msg = Message()\n",
    "mail = Email()\n",
    "\n",
    "msg.send()\n",
    "mail.send()\n"
   ]
  },
  {
   "cell_type": "code",
   "execution_count": 11,
   "id": "c94c7e36-f22d-415c-b508-723829383c56",
   "metadata": {},
   "outputs": [
    {
     "name": "stdin",
     "output_type": "stream",
     "text": [
      "Enter numbers for list 1 separated by space:  1 1 2 34 4 3 4 3\n",
      "Enter numbers for list 2 separated by space:  1 2 3 45 5 3\n"
     ]
    },
    {
     "name": "stdout",
     "output_type": "stream",
     "text": [
      "Common elements: [1, 2, 3]\n"
     ]
    }
   ],
   "source": [
    "#Write a function to find common elements between two lists\n",
    "def comm(lst1, lst2):\n",
    "    common = []\n",
    "    for element in lst1:\n",
    "        if element in lst2 and element not in common:\n",
    "            common.append(element)\n",
    "    return common\n",
    "\n",
    "lst1 = list(map(int, input(\"Enter numbers for list 1 separated by space: \").split()))\n",
    "lst2 = list(map(int, input(\"Enter numbers for list 2 separated by space: \").split()))\n",
    "\n",
    "print(\"Common elements:\", comm(lst1, lst2))\n"
   ]
  },
  {
   "cell_type": "code",
   "execution_count": 13,
   "id": "f4c13d18-9da6-42aa-ab4f-973f600b47af",
   "metadata": {},
   "outputs": [
    {
     "name": "stdout",
     "output_type": "stream",
     "text": [
      "Error: List index out of range.\n",
      "List access attempted.\n"
     ]
    }
   ],
   "source": [
    "#demonstrate try-except-finally\n",
    "try:\n",
    "    lst = [1, 2, 3]\n",
    "    print(lst[5])\n",
    "except IndexError:\n",
    "    print(\"Error: List index out of range.\")\n",
    "finally:\n",
    "    print(\"List access attempted.\")\n"
   ]
  },
  {
   "cell_type": "code",
   "execution_count": 15,
   "id": "77a556d5-bd78-4b70-b2b4-a0f747142d8a",
   "metadata": {},
   "outputs": [
    {
     "name": "stdout",
     "output_type": "stream",
     "text": [
      "Nitish\n",
      "20\n"
     ]
    }
   ],
   "source": [
    "#Write a program to parse and display JSON data from a string\n",
    "import json\n",
    "\n",
    "data = '{\"name\": \"Nitish\", \"age\": 20}'\n",
    "parsed = json.loads(data)\n",
    "\n",
    "print(parsed[\"name\"])\n",
    "print(parsed[\"age\"])\n"
   ]
  },
  {
   "cell_type": "code",
   "execution_count": 18,
   "id": "cbd99043-cf43-4925-8131-a3a97dd386e3",
   "metadata": {},
   "outputs": [
    {
     "name": "stdout",
     "output_type": "stream",
     "text": [
      "Public\n",
      "Protected\n",
      "Private\n",
      "\n",
      "Accessing from outside:\n",
      "Public\n",
      "Protected\n",
      "Private\n"
     ]
    }
   ],
   "source": [
    "#Create a class that demonstrates the use of private and protected members\n",
    "class Demo:\n",
    "    def __init__(self):\n",
    "        self.public = \"Public\"\n",
    "        self._protected = \"Protected\"\n",
    "        self.__private = \"Private\"\n",
    "\n",
    "    def show(self):\n",
    "        print(self.public)\n",
    "        print(self._protected)\n",
    "        print(self.__private)\n",
    "\n",
    "d = Demo()\n",
    "d.show()\n",
    "\n",
    "\n",
    "print(\"\\nAccessing from outside:\")\n",
    "print(d.public)         \n",
    "print(d._protected)    \n",
    "#print(d.__private) error   \n",
    "print(d._Demo__private) \n"
   ]
  },
  {
   "cell_type": "code",
   "execution_count": 20,
   "id": "d71805dc-223b-4efc-ab18-ac757dd22759",
   "metadata": {},
   "outputs": [
    {
     "name": "stdin",
     "output_type": "stream",
     "text": [
      "Enter an email address:  sfgkjf@gmail.com\n"
     ]
    },
    {
     "name": "stdout",
     "output_type": "stream",
     "text": [
      "Valid email address.\n"
     ]
    }
   ],
   "source": [
    "#validate email address\n",
    "import re\n",
    "def is_valid_email(email):\n",
    "    pattern = r'^[\\w\\.-]+@[\\w\\.-]+\\.\\w+$'\n",
    "    return re.match(pattern, email) is not None\n",
    "email = input(\"Enter an email address: \")\n",
    "\n",
    "if is_valid_email(email):\n",
    "    print(\"Valid email address.\")\n",
    "else:\n",
    "    print(\"Invalid email address.\")"
   ]
  },
  {
   "cell_type": "code",
   "execution_count": 22,
   "id": "8d51218a-09c0-4b8c-ad28-85d2a047f726",
   "metadata": {},
   "outputs": [
    {
     "name": "stdin",
     "output_type": "stream",
     "text": [
      "Enter CSV file name (with .csv extension):  Covid19.csv\n"
     ]
    },
    {
     "name": "stdout",
     "output_type": "stream",
     "text": [
      "List of dictionaries:\n",
      "{'Country/Region': 'Afghanistan', 'Confirmed': '36263', 'Deaths': '1269.0', 'Recovered': '25198.0', 'Active': '9796.0', 'New cases': '106.0', 'New deaths': '10.0', 'New recovered': '18.0', 'Deaths / 100 Cases': '3.5', 'Recovered / 100 Cases': '69.49', 'Deaths / 100 Recovered': '5.04', 'Confirmed last week': '35526.0', '1 week change': '737.0', '1 week % increase': '2.07', 'WHO Region': 'Eastern Mediterranean'}\n",
      "{'Country/Region': 'Albania', 'Confirmed': '4880', 'Deaths': '144.0', 'Recovered': '2745.0', 'Active': '1991.0', 'New cases': '117.0', 'New deaths': '6.0', 'New recovered': '63.0', 'Deaths / 100 Cases': '2.95', 'Recovered / 100 Cases': '56.25', 'Deaths / 100 Recovered': '5.25', 'Confirmed last week': '4171.0', '1 week change': '709.0', '1 week % increase': '17.0', 'WHO Region': 'Europe'}\n",
      "{'Country/Region': 'Algeria', 'Confirmed': '27973', 'Deaths': '1163.0', 'Recovered': '18837.0', 'Active': '7973.0', 'New cases': '616.0', 'New deaths': '8.0', 'New recovered': '749.0', 'Deaths / 100 Cases': '4.16', 'Recovered / 100 Cases': '67.34', 'Deaths / 100 Recovered': '6.17', 'Confirmed last week': '23691.0', '1 week change': '4282.0', '1 week % increase': '18.07', 'WHO Region': 'Africa'}\n",
      "{'Country/Region': 'Andorra', 'Confirmed': '907', 'Deaths': '52.0', 'Recovered': '803.0', 'Active': '52.0', 'New cases': '10.0', 'New deaths': '0.0', 'New recovered': '0.0', 'Deaths / 100 Cases': '5.73', 'Recovered / 100 Cases': '88.53', 'Deaths / 100 Recovered': '6.48', 'Confirmed last week': '884.0', '1 week change': '23.0', '1 week % increase': '2.6', 'WHO Region': 'Europe'}\n",
      "{'Country/Region': 'Angola', 'Confirmed': '950', 'Deaths': '41.0', 'Recovered': '242.0', 'Active': '667.0', 'New cases': '18.0', 'New deaths': '1.0', 'New recovered': '0.0', 'Deaths / 100 Cases': '4.32', 'Recovered / 100 Cases': '25.47', 'Deaths / 100 Recovered': '16.94', 'Confirmed last week': '749.0', '1 week change': '201.0', '1 week % increase': '26.84', 'WHO Region': 'Africa'}\n",
      "{'Country/Region': 'Antigua and Barbuda', 'Confirmed': '86', 'Deaths': '3.0', 'Recovered': '65.0', 'Active': '18.0', 'New cases': '4.0', 'New deaths': '0.0', 'New recovered': '5.0', 'Deaths / 100 Cases': '3.49', 'Recovered / 100 Cases': '75.58', 'Deaths / 100 Recovered': '4.62', 'Confirmed last week': '76.0', '1 week change': '10.0', '1 week % increase': '13.16', 'WHO Region': 'Americas'}\n",
      "{'Country/Region': 'Argentina', 'Confirmed': '167416', 'Deaths': '3059.0', 'Recovered': '72575.0', 'Active': '91782.0', 'New cases': '4890.0', 'New deaths': '120.0', 'New recovered': '2057.0', 'Deaths / 100 Cases': '1.83', 'Recovered / 100 Cases': '43.35', 'Deaths / 100 Recovered': '4.21', 'Confirmed last week': '130774.0', '1 week change': '36642.0', '1 week % increase': '28.02', 'WHO Region': 'Americas'}\n",
      "{'Country/Region': 'Armenia', 'Confirmed': '37390', 'Deaths': '711.0', 'Recovered': '26665.0', 'Active': '10014.0', 'New cases': '73.0', 'New deaths': '6.0', 'New recovered': '187.0', 'Deaths / 100 Cases': '1.9', 'Recovered / 100 Cases': '71.32', 'Deaths / 100 Recovered': '2.67', 'Confirmed last week': '34981.0', '1 week change': '2409.0', '1 week % increase': '6.89', 'WHO Region': 'Europe'}\n",
      "{'Country/Region': 'Australia', 'Confirmed': '15303', 'Deaths': '167.0', 'Recovered': '9311.0', 'Active': '5825.0', 'New cases': '368.0', 'New deaths': '6.0', 'New recovered': '137.0', 'Deaths / 100 Cases': '1.09', 'Recovered / 100 Cases': '60.84', 'Deaths / 100 Recovered': '1.79', 'Confirmed last week': '12428.0', '1 week change': '2875.0', '1 week % increase': '23.13', 'WHO Region': 'Western Pacific'}\n",
      "{'Country/Region': 'Austria', 'Confirmed': '20558', 'Deaths': '713.0', 'Recovered': '18246.0', 'Active': '1599.0', 'New cases': '86.0', 'New deaths': '1.0', 'New recovered': '37.0', 'Deaths / 100 Cases': '3.47', 'Recovered / 100 Cases': '88.75', 'Deaths / 100 Recovered': '3.91', 'Confirmed last week': '19743.0', '1 week change': '815.0', '1 week % increase': '4.13', 'WHO Region': 'Europe'}\n",
      "{'Country/Region': 'Azerbaijan', 'Confirmed': '30446', 'Deaths': '423.0', 'Recovered': '23242.0', 'Active': '6781.0', 'New cases': '396.0', 'New deaths': '6.0', 'New recovered': '558.0', 'Deaths / 100 Cases': '1.39', 'Recovered / 100 Cases': '76.34', 'Deaths / 100 Recovered': '1.82', 'Confirmed last week': '27890.0', '1 week change': '2556.0', '1 week % increase': '9.16', 'WHO Region': 'Europe'}\n",
      "{'Country/Region': 'Bahamas', 'Confirmed': '382', 'Deaths': '11.0', 'Recovered': '91.0', 'Active': '280.0', 'New cases': '40.0', 'New deaths': '0.0', 'New recovered': '0.0', 'Deaths / 100 Cases': '2.88', 'Recovered / 100 Cases': '23.82', 'Deaths / 100 Recovered': '12.09', 'Confirmed last week': '174.0', '1 week change': '208.0', '1 week % increase': '119.54', 'WHO Region': 'Americas'}\n",
      "{'Country/Region': 'Bahrain', 'Confirmed': '39482', 'Deaths': '141.0', 'Recovered': '36110.0', 'Active': '3231.0', 'New cases': '351.0', 'New deaths': '1.0', 'New recovered': '421.0', 'Deaths / 100 Cases': '0.36', 'Recovered / 100 Cases': '91.46', 'Deaths / 100 Recovered': '0.39', 'Confirmed last week': '36936.0', '1 week change': '2546.0', '1 week % increase': '6.89', 'WHO Region': 'Eastern Mediterranean'}\n",
      "{'Country/Region': 'Bangladesh', 'Confirmed': '226225', 'Deaths': '2965.0', 'Recovered': '125683.0', 'Active': '97577.0', 'New cases': '2772.0', 'New deaths': '37.0', 'New recovered': '1801.0', 'Deaths / 100 Cases': '1.31', 'Recovered / 100 Cases': '55.56', 'Deaths / 100 Recovered': '2.36', 'Confirmed last week': '207453.0', '1 week change': '18772.0', '1 week % increase': '9.05', 'WHO Region': 'South-East Asia'}\n",
      "{'Country/Region': 'Barbados', 'Confirmed': '110', 'Deaths': '7.0', 'Recovered': '94.0', 'Active': '9.0', 'New cases': '0.0', 'New deaths': '0.0', 'New recovered': '0.0', 'Deaths / 100 Cases': '6.36', 'Recovered / 100 Cases': '85.45', 'Deaths / 100 Recovered': '7.45', 'Confirmed last week': '106.0', '1 week change': '4.0', '1 week % increase': '3.77', 'WHO Region': 'Americas'}\n",
      "{'Country/Region': 'Belarus', 'Confirmed': '67251', 'Deaths': '538.0', 'Recovered': '60492.0', 'Active': '6221.0', 'New cases': '119.0', 'New deaths': '4.0', 'New recovered': '67.0', 'Deaths / 100 Cases': '0.8', 'Recovered / 100 Cases': '89.95', 'Deaths / 100 Recovered': '0.89', 'Confirmed last week': '66213.0', '1 week change': '1038.0', '1 week % increase': '1.57', 'WHO Region': 'Europe'}\n",
      "{'Country/Region': 'Belgium', 'Confirmed': '66428', 'Deaths': '9822.0', 'Recovered': '17452.0', 'Active': '39154.0', 'New cases': '402.0', 'New deaths': '1.0', 'New recovered': '14.0', 'Deaths / 100 Cases': '14.79', 'Recovered / 100 Cases': '26.27', 'Deaths / 100 Recovered': '56.28', 'Confirmed last week': '64094.0', '1 week change': '2334.0', '1 week % increase': '3.64', 'WHO Region': 'Europe'}\n",
      "{'Country/Region': 'Belize', 'Confirmed': '48', 'Deaths': '2.0', 'Recovered': '26.0', 'Active': '20.0', 'New cases': '0.0', 'New deaths': '0.0', 'New recovered': '0.0', 'Deaths / 100 Cases': '4.17', 'Recovered / 100 Cases': '54.17', 'Deaths / 100 Recovered': '7.69', 'Confirmed last week': '40.0', '1 week change': '8.0', '1 week % increase': '20.0', 'WHO Region': 'Americas'}\n",
      "{'Country/Region': 'Benin', 'Confirmed': '1770', 'Deaths': '35.0', 'Recovered': '1036.0', 'Active': '699.0', 'New cases': '0.0', 'New deaths': '0.0', 'New recovered': '0.0', 'Deaths / 100 Cases': '1.98', 'Recovered / 100 Cases': '58.53', 'Deaths / 100 Recovered': '3.38', 'Confirmed last week': '1602.0', '1 week change': '168.0', '1 week % increase': '10.49', 'WHO Region': 'Africa'}\n",
      "{'Country/Region': 'Bhutan', 'Confirmed': '99', 'Deaths': '0.0', 'Recovered': '86.0', 'Active': '13.0', 'New cases': '4.0', 'New deaths': '0.0', 'New recovered': '1.0', 'Deaths / 100 Cases': '0.0', 'Recovered / 100 Cases': '86.87', 'Deaths / 100 Recovered': '0.0', 'Confirmed last week': '90.0', '1 week change': '9.0', '1 week % increase': '10.0', 'WHO Region': 'South-East Asia'}\n",
      "{'Country/Region': 'Bolivia', 'Confirmed': '71181', 'Deaths': '2647.0', 'Recovered': '21478.0', 'Active': '47056.0', 'New cases': '1752.0', 'New deaths': '64.0', 'New recovered': '309.0', 'Deaths / 100 Cases': '3.72', 'Recovered / 100 Cases': '30.17', 'Deaths / 100 Recovered': '12.32', 'Confirmed last week': '60991.0', '1 week change': '10190.0', '1 week % increase': '16.71', 'WHO Region': 'Americas'}\n",
      "{'Country/Region': 'Bosnia and Herzegovina', 'Confirmed': '10498', 'Deaths': '294.0', 'Recovered': '4930.0', 'Active': '5274.0', 'New cases': '731.0', 'New deaths': '14.0', 'New recovered': '375.0', 'Deaths / 100 Cases': '2.8', 'Recovered / 100 Cases': '46.96', 'Deaths / 100 Recovered': '5.96', 'Confirmed last week': '8479.0', '1 week change': '2019.0', '1 week % increase': '23.81', 'WHO Region': 'Europe'}\n",
      "{'Country/Region': 'Botswana', 'Confirmed': '739', 'Deaths': '2.0', 'Recovered': '63.0', 'Active': '674.0', 'New cases': '53.0', 'New deaths': '1.0', 'New recovered': '11.0', 'Deaths / 100 Cases': '0.27', 'Recovered / 100 Cases': '8.53', 'Deaths / 100 Recovered': '3.17', 'Confirmed last week': '522.0', '1 week change': '217.0', '1 week % increase': '41.57', 'WHO Region': 'Africa'}\n",
      "{'Country/Region': 'Brazil', 'Confirmed': '2442375', 'Deaths': '87618.0', 'Recovered': '1846641.0', 'Active': '508116.0', 'New cases': '23284.0', 'New deaths': '614.0', 'New recovered': '33728.0', 'Deaths / 100 Cases': '3.59', 'Recovered / 100 Cases': '75.61', 'Deaths / 100 Recovered': '4.74', 'Confirmed last week': '2118646.0', '1 week change': '323729.0', '1 week % increase': '15.28', 'WHO Region': 'Americas'}\n",
      "{'Country/Region': 'Brunei', 'Confirmed': '141', 'Deaths': '3.0', 'Recovered': '138.0', 'Active': '0.0', 'New cases': '0.0', 'New deaths': '0.0', 'New recovered': '0.0', 'Deaths / 100 Cases': '2.13', 'Recovered / 100 Cases': '97.87', 'Deaths / 100 Recovered': '2.17', 'Confirmed last week': '141.0', '1 week change': '0.0', '1 week % increase': '0.0', 'WHO Region': 'Western Pacific'}\n",
      "{'Country/Region': 'Bulgaria', 'Confirmed': '10621', 'Deaths': '347.0', 'Recovered': '5585.0', 'Active': '4689.0', 'New cases': '194.0', 'New deaths': '7.0', 'New recovered': '230.0', 'Deaths / 100 Cases': '3.27', 'Recovered / 100 Cases': '52.58', 'Deaths / 100 Recovered': '6.21', 'Confirmed last week': '8929.0', '1 week change': '1692.0', '1 week % increase': '18.95', 'WHO Region': 'Europe'}\n",
      "{'Country/Region': 'Burkina Faso', 'Confirmed': '1100', 'Deaths': '53.0', 'Recovered': '926.0', 'Active': '121.0', 'New cases': '14.0', 'New deaths': '0.0', 'New recovered': '6.0', 'Deaths / 100 Cases': '4.82', 'Recovered / 100 Cases': '84.18', 'Deaths / 100 Recovered': '5.72', 'Confirmed last week': '1065.0', '1 week change': '35.0', '1 week % increase': '3.29', 'WHO Region': 'Africa'}\n",
      "{'Country/Region': 'Burma', 'Confirmed': '350', 'Deaths': '6.0', 'Recovered': '292.0', 'Active': '52.0', 'New cases': '0.0', 'New deaths': '0.0', 'New recovered': '2.0', 'Deaths / 100 Cases': '1.71', 'Recovered / 100 Cases': '83.43', 'Deaths / 100 Recovered': '2.05', 'Confirmed last week': '341.0', '1 week change': '9.0', '1 week % increase': '2.64', 'WHO Region': 'South-East Asia'}\n",
      "{'Country/Region': 'Burundi', 'Confirmed': '378', 'Deaths': '1.0', 'Recovered': '301.0', 'Active': '76.0', 'New cases': '17.0', 'New deaths': '0.0', 'New recovered': '22.0', 'Deaths / 100 Cases': '0.26', 'Recovered / 100 Cases': '79.63', 'Deaths / 100 Recovered': '0.33', 'Confirmed last week': '322.0', '1 week change': '56.0', '1 week % increase': '17.39', 'WHO Region': 'Africa'}\n",
      "{'Country/Region': 'Cabo Verde', 'Confirmed': '2328', 'Deaths': '22.0', 'Recovered': '1550.0', 'Active': '756.0', 'New cases': '21.0', 'New deaths': '0.0', 'New recovered': '103.0', 'Deaths / 100 Cases': '0.95', 'Recovered / 100 Cases': '66.58', 'Deaths / 100 Recovered': '1.42', 'Confirmed last week': '2071.0', '1 week change': '257.0', '1 week % increase': '12.41', 'WHO Region': 'Africa'}\n",
      "{'Country/Region': 'Cambodia', 'Confirmed': '226', 'Deaths': '0.0', 'Recovered': '147.0', 'Active': '79.0', 'New cases': '1.0', 'New deaths': '0.0', 'New recovered': '4.0', 'Deaths / 100 Cases': '0.0', 'Recovered / 100 Cases': '65.04', 'Deaths / 100 Recovered': '0.0', 'Confirmed last week': '171.0', '1 week change': '55.0', '1 week % increase': '32.16', 'WHO Region': 'Western Pacific'}\n",
      "{'Country/Region': 'Cameroon', 'Confirmed': '17110', 'Deaths': '391.0', 'Recovered': '14539.0', 'Active': '2180.0', 'New cases': '402.0', 'New deaths': '6.0', 'New recovered': '0.0', 'Deaths / 100 Cases': '2.29', 'Recovered / 100 Cases': '84.97', 'Deaths / 100 Recovered': '2.69', 'Confirmed last week': '16157.0', '1 week change': '953.0', '1 week % increase': '5.9', 'WHO Region': 'Africa'}\n",
      "{'Country/Region': 'Canada', 'Confirmed': '116458', 'Deaths': '8944.0', 'Recovered': '0.0', 'Active': '107514.0', 'New cases': '682.0', 'New deaths': '11.0', 'New recovered': '0.0', 'Deaths / 100 Cases': '7.68', 'Recovered / 100 Cases': '0.0', 'Deaths / 100 Recovered': 'inf', 'Confirmed last week': '112925.0', '1 week change': '3533.0', '1 week % increase': '3.13', 'WHO Region': 'Americas'}\n",
      "{'Country/Region': 'Central African Republic', 'Confirmed': '4599', 'Deaths': '59.0', 'Recovered': '1546.0', 'Active': '2994.0', 'New cases': '0.0', 'New deaths': '0.0', 'New recovered': '0.0', 'Deaths / 100 Cases': '1.28', 'Recovered / 100 Cases': '33.62', 'Deaths / 100 Recovered': '3.82', 'Confirmed last week': '4548.0', '1 week change': '51.0', '1 week % increase': '1.12', 'WHO Region': 'Africa'}\n",
      "{'Country/Region': 'Chad', 'Confirmed': '922', 'Deaths': '75.0', 'Recovered': '810.0', 'Active': '37.0', 'New cases': '7.0', 'New deaths': '0.0', 'New recovered': '0.0', 'Deaths / 100 Cases': '8.13', 'Recovered / 100 Cases': '87.85', 'Deaths / 100 Recovered': '9.26', 'Confirmed last week': '889.0', '1 week change': '33.0', '1 week % increase': '3.71', 'WHO Region': 'Africa'}\n",
      "{'Country/Region': 'Chile', 'Confirmed': '347923', 'Deaths': '9187.0', 'Recovered': '319954.0', 'Active': '18782.0', 'New cases': '2133.0', 'New deaths': '75.0', 'New recovered': '1859.0', 'Deaths / 100 Cases': '2.64', 'Recovered / 100 Cases': '91.96', 'Deaths / 100 Recovered': '2.87', 'Confirmed last week': '333029.0', '1 week change': '14894.0', '1 week % increase': '4.47', 'WHO Region': 'Americas'}\n",
      "{'Country/Region': 'China', 'Confirmed': '86783', 'Deaths': '4656.0', 'Recovered': '78869.0', 'Active': '3258.0', 'New cases': '213.0', 'New deaths': '4.0', 'New recovered': '7.0', 'Deaths / 100 Cases': '5.37', 'Recovered / 100 Cases': '90.88', 'Deaths / 100 Recovered': '5.9', 'Confirmed last week': '85622.0', '1 week change': '1161.0', '1 week % increase': '1.36', 'WHO Region': 'Western Pacific'}\n",
      "{'Country/Region': 'Colombia', 'Confirmed': '257101', 'Deaths': '8777.0', 'Recovered': '131161.0', 'Active': '117163.0', 'New cases': '16306.0', 'New deaths': '508.0', 'New recovered': '11494.0', 'Deaths / 100 Cases': '3.41', 'Recovered / 100 Cases': '51.02', 'Deaths / 100 Recovered': '6.69', 'Confirmed last week': '204005.0', '1 week change': '53096.0', '1 week % increase': '26.03', 'WHO Region': 'Americas'}\n",
      "{'Country/Region': 'Comoros', 'Confirmed': '354', 'Deaths': '7.0', 'Recovered': '328.0', 'Active': '19.0', 'New cases': '0.0', 'New deaths': '0.0', 'New recovered': '0.0', 'Deaths / 100 Cases': '1.98', 'Recovered / 100 Cases': '92.66', 'Deaths / 100 Recovered': '2.13', 'Confirmed last week': '334.0', '1 week change': '20.0', '1 week % increase': '5.99', 'WHO Region': 'Africa'}\n",
      "{'Country/Region': 'Congo (Brazzaville)', 'Confirmed': '3200', 'Deaths': '54.0', 'Recovered': '829.0', 'Active': '2317.0', 'New cases': '162.0', 'New deaths': '3.0', 'New recovered': '73.0', 'Deaths / 100 Cases': '1.69', 'Recovered / 100 Cases': '25.91', 'Deaths / 100 Recovered': '6.51', 'Confirmed last week': '2851.0', '1 week change': '349.0', '1 week % increase': '12.24', 'WHO Region': 'Africa'}\n",
      "{'Country/Region': 'Congo (Kinshasa)', 'Confirmed': '8844', 'Deaths': '208.0', 'Recovered': '5700.0', 'Active': '2936.0', 'New cases': '13.0', 'New deaths': '4.0', 'New recovered': '190.0', 'Deaths / 100 Cases': '2.35', 'Recovered / 100 Cases': '64.45', 'Deaths / 100 Recovered': '3.65', 'Confirmed last week': '8443.0', '1 week change': '401.0', '1 week % increase': '4.75', 'WHO Region': 'Africa'}\n",
      "{'Country/Region': 'Costa Rica', 'Confirmed': '15841', 'Deaths': '115.0', 'Recovered': '3824.0', 'Active': '11902.0', 'New cases': '612.0', 'New deaths': '11.0', 'New recovered': '88.0', 'Deaths / 100 Cases': '0.73', 'Recovered / 100 Cases': '24.14', 'Deaths / 100 Recovered': '3.01', 'Confirmed last week': '11534.0', '1 week change': '4307.0', '1 week % increase': '37.34', 'WHO Region': 'Americas'}\n",
      "{'Country/Region': \"Cote d'Ivoire\", 'Confirmed': '15655', 'Deaths': '96.0', 'Recovered': '10361.0', 'Active': '5198.0', 'New cases': '59.0', 'New deaths': '0.0', 'New recovered': '183.0', 'Deaths / 100 Cases': '0.61', 'Recovered / 100 Cases': '66.18', 'Deaths / 100 Recovered': '0.93', 'Confirmed last week': '14312.0', '1 week change': '1343.0', '1 week % increase': '9.38', 'WHO Region': 'Africa'}\n",
      "{'Country/Region': 'Croatia', 'Confirmed': '4881', 'Deaths': '139.0', 'Recovered': '3936.0', 'Active': '806.0', 'New cases': '24.0', 'New deaths': '3.0', 'New recovered': '70.0', 'Deaths / 100 Cases': '2.85', 'Recovered / 100 Cases': '80.64', 'Deaths / 100 Recovered': '3.53', 'Confirmed last week': '4370.0', '1 week change': '511.0', '1 week % increase': '11.69', 'WHO Region': 'Europe'}\n",
      "{'Country/Region': 'Cuba', 'Confirmed': '2532', 'Deaths': '87.0', 'Recovered': '2351.0', 'Active': '94.0', 'New cases': '37.0', 'New deaths': '0.0', 'New recovered': '2.0', 'Deaths / 100 Cases': '3.44', 'Recovered / 100 Cases': '92.85', 'Deaths / 100 Recovered': '3.7', 'Confirmed last week': '2446.0', '1 week change': '86.0', '1 week % increase': '3.52', 'WHO Region': 'Americas'}\n",
      "{'Country/Region': 'Cyprus', 'Confirmed': '1060', 'Deaths': '19.0', 'Recovered': '852.0', 'Active': '189.0', 'New cases': '3.0', 'New deaths': '0.0', 'New recovered': '0.0', 'Deaths / 100 Cases': '1.79', 'Recovered / 100 Cases': '80.38', 'Deaths / 100 Recovered': '2.23', 'Confirmed last week': '1038.0', '1 week change': '22.0', '1 week % increase': '2.12', 'WHO Region': 'Europe'}\n",
      "{'Country/Region': 'Czechia', 'Confirmed': '15516', 'Deaths': '373.0', 'Recovered': '11428.0', 'Active': '3715.0', 'New cases': '192.0', 'New deaths': '2.0', 'New recovered': '0.0', 'Deaths / 100 Cases': '2.4', 'Recovered / 100 Cases': '73.65', 'Deaths / 100 Recovered': '3.26', 'Confirmed last week': '14098.0', '1 week change': '1418.0', '1 week % increase': '10.06', 'WHO Region': 'Europe'}\n",
      "{'Country/Region': 'Denmark', 'Confirmed': '13761', 'Deaths': '613.0', 'Recovered': '12605.0', 'Active': '543.0', 'New cases': '109.0', 'New deaths': '0.0', 'New recovered': '77.0', 'Deaths / 100 Cases': '4.45', 'Recovered / 100 Cases': '91.6', 'Deaths / 100 Recovered': '4.86', 'Confirmed last week': '13453.0', '1 week change': '308.0', '1 week % increase': '2.29', 'WHO Region': 'Europe'}\n",
      "{'Country/Region': 'Djibouti', 'Confirmed': '5059', 'Deaths': '58.0', 'Recovered': '4977.0', 'Active': '24.0', 'New cases': '9.0', 'New deaths': '0.0', 'New recovered': '11.0', 'Deaths / 100 Cases': '1.15', 'Recovered / 100 Cases': '98.38', 'Deaths / 100 Recovered': '1.17', 'Confirmed last week': '5020.0', '1 week change': '39.0', '1 week % increase': '0.78', 'WHO Region': 'Eastern Mediterranean'}\n",
      "{'Country/Region': 'Dominica', 'Confirmed': '18', 'Deaths': '0.0', 'Recovered': '18.0', 'Active': '0.0', 'New cases': '0.0', 'New deaths': '0.0', 'New recovered': '0.0', 'Deaths / 100 Cases': '0.0', 'Recovered / 100 Cases': '100.0', 'Deaths / 100 Recovered': '0.0', 'Confirmed last week': '18.0', '1 week change': '0.0', '1 week % increase': '0.0', 'WHO Region': 'Americas'}\n",
      "{'Country/Region': 'Dominican Republic', 'Confirmed': '64156', 'Deaths': '1083.0', 'Recovered': '30204.0', 'Active': '32869.0', 'New cases': '1248.0', 'New deaths': '20.0', 'New recovered': '1601.0', 'Deaths / 100 Cases': '1.69', 'Recovered / 100 Cases': '47.08', 'Deaths / 100 Recovered': '3.59', 'Confirmed last week': '53956.0', '1 week change': '10200.0', '1 week % increase': '18.9', 'WHO Region': 'Americas'}\n",
      "{'Country/Region': 'Ecuador', 'Confirmed': '81161', 'Deaths': '5532.0', 'Recovered': '34896.0', 'Active': '40733.0', 'New cases': '467.0', 'New deaths': '17.0', 'New recovered': '0.0', 'Deaths / 100 Cases': '6.82', 'Recovered / 100 Cases': '43.0', 'Deaths / 100 Recovered': '15.85', 'Confirmed last week': '74620.0', '1 week change': '6541.0', '1 week % increase': '8.77', 'WHO Region': 'Americas'}\n",
      "{'Country/Region': 'Egypt', 'Confirmed': '92482', 'Deaths': '4652.0', 'Recovered': '34838.0', 'Active': '52992.0', 'New cases': '420.0', 'New deaths': '46.0', 'New recovered': '1007.0', 'Deaths / 100 Cases': '5.03', 'Recovered / 100 Cases': '37.67', 'Deaths / 100 Recovered': '13.35', 'Confirmed last week': '88402.0', '1 week change': '4080.0', '1 week % increase': '4.62', 'WHO Region': 'Eastern Mediterranean'}\n",
      "{'Country/Region': 'El Salvador', 'Confirmed': '15035', 'Deaths': '408.0', 'Recovered': '7778.0', 'Active': '6849.0', 'New cases': '405.0', 'New deaths': '8.0', 'New recovered': '130.0', 'Deaths / 100 Cases': '2.71', 'Recovered / 100 Cases': '51.73', 'Deaths / 100 Recovered': '5.25', 'Confirmed last week': '12207.0', '1 week change': '2828.0', '1 week % increase': '23.17', 'WHO Region': 'Americas'}\n",
      "{'Country/Region': 'Equatorial Guinea', 'Confirmed': '3071', 'Deaths': '51.0', 'Recovered': '842.0', 'Active': '2178.0', 'New cases': '0.0', 'New deaths': '0.0', 'New recovered': '0.0', 'Deaths / 100 Cases': '1.66', 'Recovered / 100 Cases': '27.42', 'Deaths / 100 Recovered': '6.06', 'Confirmed last week': '3071.0', '1 week change': '0.0', '1 week % increase': '0.0', 'WHO Region': 'Africa'}\n",
      "{'Country/Region': 'Eritrea', 'Confirmed': '265', 'Deaths': '0.0', 'Recovered': '191.0', 'Active': '74.0', 'New cases': '2.0', 'New deaths': '0.0', 'New recovered': '2.0', 'Deaths / 100 Cases': '0.0', 'Recovered / 100 Cases': '72.08', 'Deaths / 100 Recovered': '0.0', 'Confirmed last week': '251.0', '1 week change': '14.0', '1 week % increase': '5.58', 'WHO Region': 'Africa'}\n",
      "{'Country/Region': 'Estonia', 'Confirmed': '2034', 'Deaths': '69.0', 'Recovered': '1923.0', 'Active': '42.0', 'New cases': '0.0', 'New deaths': '0.0', 'New recovered': '1.0', 'Deaths / 100 Cases': '3.39', 'Recovered / 100 Cases': '94.54', 'Deaths / 100 Recovered': '3.59', 'Confirmed last week': '2021.0', '1 week change': '13.0', '1 week % increase': '0.64', 'WHO Region': 'Europe'}\n",
      "{'Country/Region': 'Eswatini', 'Confirmed': '2316', 'Deaths': '34.0', 'Recovered': '1025.0', 'Active': '1257.0', 'New cases': '109.0', 'New deaths': '2.0', 'New recovered': '39.0', 'Deaths / 100 Cases': '1.47', 'Recovered / 100 Cases': '44.26', 'Deaths / 100 Recovered': '3.32', 'Confirmed last week': '1826.0', '1 week change': '490.0', '1 week % increase': '26.83', 'WHO Region': 'Africa'}\n",
      "{'Country/Region': 'Ethiopia', 'Confirmed': '14547', 'Deaths': '228.0', 'Recovered': '6386.0', 'Active': '7933.0', 'New cases': '579.0', 'New deaths': '5.0', 'New recovered': '170.0', 'Deaths / 100 Cases': '1.57', 'Recovered / 100 Cases': '43.9', 'Deaths / 100 Recovered': '3.57', 'Confirmed last week': '10207.0', '1 week change': '4340.0', '1 week % increase': '42.52', 'WHO Region': 'Africa'}\n",
      "{'Country/Region': 'Fiji', 'Confirmed': '27', 'Deaths': '0.0', 'Recovered': '18.0', 'Active': '9.0', 'New cases': '0.0', 'New deaths': '0.0', 'New recovered': '0.0', 'Deaths / 100 Cases': '0.0', 'Recovered / 100 Cases': '66.67', 'Deaths / 100 Recovered': '0.0', 'Confirmed last week': '27.0', '1 week change': '0.0', '1 week % increase': '0.0', 'WHO Region': 'Western Pacific'}\n",
      "{'Country/Region': 'Finland', 'Confirmed': '7398', 'Deaths': '329.0', 'Recovered': '6920.0', 'Active': '149.0', 'New cases': '5.0', 'New deaths': '0.0', 'New recovered': '0.0', 'Deaths / 100 Cases': '4.45', 'Recovered / 100 Cases': '93.54', 'Deaths / 100 Recovered': '4.75', 'Confirmed last week': '7340.0', '1 week change': '58.0', '1 week % increase': '0.79', 'WHO Region': 'Europe'}\n",
      "{'Country/Region': 'France', 'Confirmed': '220352', 'Deaths': '30212.0', 'Recovered': '81212.0', 'Active': '108928.0', 'New cases': '2551.0', 'New deaths': '17.0', 'New recovered': '267.0', 'Deaths / 100 Cases': '13.71', 'Recovered / 100 Cases': '36.86', 'Deaths / 100 Recovered': '37.2', 'Confirmed last week': '214023.0', '1 week change': '6329.0', '1 week % increase': '2.96', 'WHO Region': 'Europe'}\n",
      "{'Country/Region': 'Gabon', 'Confirmed': '7189', 'Deaths': '49.0', 'Recovered': '4682.0', 'Active': '2458.0', 'New cases': '205.0', 'New deaths': '0.0', 'New recovered': '219.0', 'Deaths / 100 Cases': '0.68', 'Recovered / 100 Cases': '65.13', 'Deaths / 100 Recovered': '1.05', 'Confirmed last week': '6433.0', '1 week change': '756.0', '1 week % increase': '11.75', 'WHO Region': 'Africa'}\n",
      "{'Country/Region': 'Gambia', 'Confirmed': '326', 'Deaths': '8.0', 'Recovered': '66.0', 'Active': '252.0', 'New cases': '49.0', 'New deaths': '2.0', 'New recovered': '6.0', 'Deaths / 100 Cases': '2.45', 'Recovered / 100 Cases': '20.25', 'Deaths / 100 Recovered': '12.12', 'Confirmed last week': '112.0', '1 week change': '214.0', '1 week % increase': '191.07', 'WHO Region': 'Africa'}\n",
      "{'Country/Region': 'Georgia', 'Confirmed': '1137', 'Deaths': '16.0', 'Recovered': '922.0', 'Active': '199.0', 'New cases': '6.0', 'New deaths': '0.0', 'New recovered': '2.0', 'Deaths / 100 Cases': '1.41', 'Recovered / 100 Cases': '81.09', 'Deaths / 100 Recovered': '1.74', 'Confirmed last week': '1039.0', '1 week change': '98.0', '1 week % increase': '9.43', 'WHO Region': 'Europe'}\n",
      "{'Country/Region': 'Germany', 'Confirmed': '207112', 'Deaths': '9125.0', 'Recovered': '190314.0', 'Active': '7673.0', 'New cases': '445.0', 'New deaths': '1.0', 'New recovered': '259.0', 'Deaths / 100 Cases': '4.41', 'Recovered / 100 Cases': '91.89', 'Deaths / 100 Recovered': '4.79', 'Confirmed last week': '203325.0', '1 week change': '3787.0', '1 week % increase': '1.86', 'WHO Region': 'Europe'}\n",
      "{'Country/Region': 'Ghana', 'Confirmed': '33624', 'Deaths': '168.0', 'Recovered': '29801.0', 'Active': '3655.0', 'New cases': '655.0', 'New deaths': '0.0', 'New recovered': '307.0', 'Deaths / 100 Cases': '0.5', 'Recovered / 100 Cases': '88.63', 'Deaths / 100 Recovered': '0.56', 'Confirmed last week': '28430.0', '1 week change': '5194.0', '1 week % increase': '18.27', 'WHO Region': 'Africa'}\n",
      "{'Country/Region': 'Greece', 'Confirmed': '4227', 'Deaths': '202.0', 'Recovered': '1374.0', 'Active': '2651.0', 'New cases': '34.0', 'New deaths': '0.0', 'New recovered': '0.0', 'Deaths / 100 Cases': '4.78', 'Recovered / 100 Cases': '32.51', 'Deaths / 100 Recovered': '14.7', 'Confirmed last week': '4012.0', '1 week change': '215.0', '1 week % increase': '5.36', 'WHO Region': 'Europe'}\n",
      "{'Country/Region': 'Greenland', 'Confirmed': '14', 'Deaths': '0.0', 'Recovered': '13.0', 'Active': '1.0', 'New cases': '1.0', 'New deaths': '0.0', 'New recovered': '0.0', 'Deaths / 100 Cases': '0.0', 'Recovered / 100 Cases': '92.86', 'Deaths / 100 Recovered': '0.0', 'Confirmed last week': '13.0', '1 week change': '1.0', '1 week % increase': '7.69', 'WHO Region': 'Europe'}\n",
      "{'Country/Region': 'Grenada', 'Confirmed': '23', 'Deaths': '0.0', 'Recovered': '23.0', 'Active': '0.0', 'New cases': '0.0', 'New deaths': '0.0', 'New recovered': '0.0', 'Deaths / 100 Cases': '0.0', 'Recovered / 100 Cases': '100.0', 'Deaths / 100 Recovered': '0.0', 'Confirmed last week': '23.0', '1 week change': '0.0', '1 week % increase': '0.0', 'WHO Region': 'Americas'}\n",
      "{'Country/Region': 'Guatemala', 'Confirmed': '45309', 'Deaths': '1761.0', 'Recovered': '32455.0', 'Active': '11093.0', 'New cases': '256.0', 'New deaths': '27.0', 'New recovered': '843.0', 'Deaths / 100 Cases': '3.89', 'Recovered / 100 Cases': '71.63', 'Deaths / 100 Recovered': '5.43', 'Confirmed last week': '39039.0', '1 week change': '6270.0', '1 week % increase': '16.06', 'WHO Region': 'Americas'}\n",
      "{'Country/Region': 'Guinea', 'Confirmed': '7055', 'Deaths': '45.0', 'Recovered': '6257.0', 'Active': '753.0', 'New cases': '47.0', 'New deaths': '2.0', 'New recovered': '105.0', 'Deaths / 100 Cases': '0.64', 'Recovered / 100 Cases': '88.69', 'Deaths / 100 Recovered': '0.72', 'Confirmed last week': '6590.0', '1 week change': '465.0', '1 week % increase': '7.06', 'WHO Region': 'Africa'}\n",
      "{'Country/Region': 'Guinea-Bissau', 'Confirmed': '1954', 'Deaths': '26.0', 'Recovered': '803.0', 'Active': '1125.0', 'New cases': '0.0', 'New deaths': '0.0', 'New recovered': '0.0', 'Deaths / 100 Cases': '1.33', 'Recovered / 100 Cases': '41.1', 'Deaths / 100 Recovered': '3.24', 'Confirmed last week': '1949.0', '1 week change': '5.0', '1 week % increase': '0.26', 'WHO Region': 'Africa'}\n",
      "{'Country/Region': 'Guyana', 'Confirmed': '389', 'Deaths': '20.0', 'Recovered': '181.0', 'Active': '188.0', 'New cases': '19.0', 'New deaths': '0.0', 'New recovered': '0.0', 'Deaths / 100 Cases': '5.14', 'Recovered / 100 Cases': '46.53', 'Deaths / 100 Recovered': '11.05', 'Confirmed last week': '337.0', '1 week change': '52.0', '1 week % increase': '15.43', 'WHO Region': 'Americas'}\n",
      "{'Country/Region': 'Haiti', 'Confirmed': '7340', 'Deaths': '158.0', 'Recovered': '4365.0', 'Active': '2817.0', 'New cases': '25.0', 'New deaths': '1.0', 'New recovered': '0.0', 'Deaths / 100 Cases': '2.15', 'Recovered / 100 Cases': '59.47', 'Deaths / 100 Recovered': '3.62', 'Confirmed last week': '7053.0', '1 week change': '287.0', '1 week % increase': '4.07', 'WHO Region': 'Americas'}\n",
      "{'Country/Region': 'Holy See', 'Confirmed': '12', 'Deaths': '0.0', 'Recovered': '12.0', 'Active': '0.0', 'New cases': '0.0', 'New deaths': '0.0', 'New recovered': '0.0', 'Deaths / 100 Cases': '0.0', 'Recovered / 100 Cases': '100.0', 'Deaths / 100 Recovered': '0.0', 'Confirmed last week': '12.0', '1 week change': '0.0', '1 week % increase': '0.0', 'WHO Region': 'Europe'}\n",
      "{'Country/Region': 'Honduras', 'Confirmed': '39741', 'Deaths': '1166.0', 'Recovered': '5039.0', 'Active': '33536.0', 'New cases': '465.0', 'New deaths': '50.0', 'New recovered': '117.0', 'Deaths / 100 Cases': '2.93', 'Recovered / 100 Cases': '12.68', 'Deaths / 100 Recovered': '23.14', 'Confirmed last week': '34611.0', '1 week change': '5130.0', '1 week % increase': '14.82', 'WHO Region': 'Americas'}\n",
      "{'Country/Region': 'Hungary', 'Confirmed': '4448', 'Deaths': '596.0', 'Recovered': '3329.0', 'Active': '523.0', 'New cases': '13.0', 'New deaths': '0.0', 'New recovered': '0.0', 'Deaths / 100 Cases': '13.4', 'Recovered / 100 Cases': '74.84', 'Deaths / 100 Recovered': '17.9', 'Confirmed last week': '4339.0', '1 week change': '109.0', '1 week % increase': '2.51', 'WHO Region': 'Europe'}\n",
      "{'Country/Region': 'Iceland', 'Confirmed': '1854', 'Deaths': '10.0', 'Recovered': '1823.0', 'Active': '21.0', 'New cases': '7.0', 'New deaths': '0.0', 'New recovered': '0.0', 'Deaths / 100 Cases': '0.54', 'Recovered / 100 Cases': '98.33', 'Deaths / 100 Recovered': '0.55', 'Confirmed last week': '1839.0', '1 week change': '15.0', '1 week % increase': '0.82', 'WHO Region': 'Europe'}\n",
      "{'Country/Region': 'India', 'Confirmed': '1480073', 'Deaths': '33408.0', 'Recovered': '951166.0', 'Active': '495499.0', 'New cases': '44457.0', 'New deaths': '637.0', 'New recovered': '33598.0', 'Deaths / 100 Cases': '2.26', 'Recovered / 100 Cases': '64.26', 'Deaths / 100 Recovered': '3.51', 'Confirmed last week': '1155338.0', '1 week change': '324735.0', '1 week % increase': '28.11', 'WHO Region': 'South-East Asia'}\n",
      "{'Country/Region': 'Indonesia', 'Confirmed': '100303', 'Deaths': '4838.0', 'Recovered': '58173.0', 'Active': '37292.0', 'New cases': '1525.0', 'New deaths': '57.0', 'New recovered': '1518.0', 'Deaths / 100 Cases': '4.82', 'Recovered / 100 Cases': '58.0', 'Deaths / 100 Recovered': '8.32', 'Confirmed last week': '88214.0', '1 week change': '12089.0', '1 week % increase': '13.7', 'WHO Region': 'South-East Asia'}\n",
      "{'Country/Region': 'Iran', 'Confirmed': '293606', 'Deaths': '15912.0', 'Recovered': '255144.0', 'Active': '22550.0', 'New cases': '2434.0', 'New deaths': '212.0', 'New recovered': '1931.0', 'Deaths / 100 Cases': '5.42', 'Recovered / 100 Cases': '86.9', 'Deaths / 100 Recovered': '6.24', 'Confirmed last week': '276202.0', '1 week change': '17404.0', '1 week % increase': '6.3', 'WHO Region': 'Eastern Mediterranean'}\n",
      "{'Country/Region': 'Iraq', 'Confirmed': '112585', 'Deaths': '4458.0', 'Recovered': '77144.0', 'Active': '30983.0', 'New cases': '2553.0', 'New deaths': '96.0', 'New recovered': '1927.0', 'Deaths / 100 Cases': '3.96', 'Recovered / 100 Cases': '68.52', 'Deaths / 100 Recovered': '5.78', 'Confirmed last week': '94693.0', '1 week change': '17892.0', '1 week % increase': '18.89', 'WHO Region': 'Eastern Mediterranean'}\n",
      "{'Country/Region': 'Ireland', 'Confirmed': '25892', 'Deaths': '1764.0', 'Recovered': '23364.0', 'Active': '764.0', 'New cases': '11.0', 'New deaths': '0.0', 'New recovered': '0.0', 'Deaths / 100 Cases': '6.81', 'Recovered / 100 Cases': '90.24', 'Deaths / 100 Recovered': '7.55', 'Confirmed last week': '25766.0', '1 week change': '126.0', '1 week % increase': '0.49', 'WHO Region': 'Europe'}\n",
      "{'Country/Region': 'Israel', 'Confirmed': '63985', 'Deaths': '474.0', 'Recovered': '27133.0', 'Active': '36378.0', 'New cases': '2029.0', 'New deaths': '4.0', 'New recovered': '108.0', 'Deaths / 100 Cases': '0.74', 'Recovered / 100 Cases': '42.41', 'Deaths / 100 Recovered': '1.75', 'Confirmed last week': '52003.0', '1 week change': '11982.0', '1 week % increase': '23.04', 'WHO Region': 'Europe'}\n",
      "{'Country/Region': 'Italy', 'Confirmed': '246286', 'Deaths': '35112.0', 'Recovered': '198593.0', 'Active': '12581.0', 'New cases': '168.0', 'New deaths': '5.0', 'New recovered': '147.0', 'Deaths / 100 Cases': '14.26', 'Recovered / 100 Cases': '80.64', 'Deaths / 100 Recovered': '17.68', 'Confirmed last week': '244624.0', '1 week change': '1662.0', '1 week % increase': '0.68', 'WHO Region': 'Europe'}\n",
      "{'Country/Region': 'Jamaica', 'Confirmed': '853', 'Deaths': '10.0', 'Recovered': '714.0', 'Active': '129.0', 'New cases': '11.0', 'New deaths': '0.0', 'New recovered': '0.0', 'Deaths / 100 Cases': '1.17', 'Recovered / 100 Cases': '83.7', 'Deaths / 100 Recovered': '1.4', 'Confirmed last week': '809.0', '1 week change': '44.0', '1 week % increase': '5.44', 'WHO Region': 'Americas'}\n",
      "{'Country/Region': 'Japan', 'Confirmed': '31142', 'Deaths': '998.0', 'Recovered': '21970.0', 'Active': '8174.0', 'New cases': '594.0', 'New deaths': '0.0', 'New recovered': '364.0', 'Deaths / 100 Cases': '3.2', 'Recovered / 100 Cases': '70.55', 'Deaths / 100 Recovered': '4.54', 'Confirmed last week': '25706.0', '1 week change': '5436.0', '1 week % increase': '21.15', 'WHO Region': 'Western Pacific'}\n",
      "{'Country/Region': 'Jordan', 'Confirmed': '1176', 'Deaths': '11.0', 'Recovered': '1041.0', 'Active': '124.0', 'New cases': '8.0', 'New deaths': '0.0', 'New recovered': '0.0', 'Deaths / 100 Cases': '0.94', 'Recovered / 100 Cases': '88.52', 'Deaths / 100 Recovered': '1.06', 'Confirmed last week': '1223.0', '1 week change': '-47.0', '1 week % increase': '-3.84', 'WHO Region': 'Eastern Mediterranean'}\n",
      "{'Country/Region': 'Kazakhstan', 'Confirmed': '84648', 'Deaths': '585.0', 'Recovered': '54404.0', 'Active': '29659.0', 'New cases': '1526.0', 'New deaths': '0.0', 'New recovered': '1833.0', 'Deaths / 100 Cases': '0.69', 'Recovered / 100 Cases': '64.27', 'Deaths / 100 Recovered': '1.08', 'Confirmed last week': '73468.0', '1 week change': '11180.0', '1 week % increase': '15.22', 'WHO Region': 'Europe'}\n",
      "{'Country/Region': 'Kenya', 'Confirmed': '17975', 'Deaths': '285.0', 'Recovered': '7833.0', 'Active': '9857.0', 'New cases': '372.0', 'New deaths': '5.0', 'New recovered': '90.0', 'Deaths / 100 Cases': '1.59', 'Recovered / 100 Cases': '43.58', 'Deaths / 100 Recovered': '3.64', 'Confirmed last week': '13771.0', '1 week change': '4204.0', '1 week % increase': '30.53', 'WHO Region': 'Africa'}\n",
      "{'Country/Region': 'Kosovo', 'Confirmed': '7413', 'Deaths': '185.0', 'Recovered': '4027.0', 'Active': '3201.0', 'New cases': '496.0', 'New deaths': '16.0', 'New recovered': '274.0', 'Deaths / 100 Cases': '2.5', 'Recovered / 100 Cases': '54.32', 'Deaths / 100 Recovered': '4.59', 'Confirmed last week': '5877.0', '1 week change': '1536.0', '1 week % increase': '26.14', 'WHO Region': 'Europe'}\n",
      "{'Country/Region': 'Kuwait', 'Confirmed': '64379', 'Deaths': '438.0', 'Recovered': '55057.0', 'Active': '8884.0', 'New cases': '606.0', 'New deaths': '5.0', 'New recovered': '684.0', 'Deaths / 100 Cases': '0.68', 'Recovered / 100 Cases': '85.52', 'Deaths / 100 Recovered': '0.8', 'Confirmed last week': '59763.0', '1 week change': '4616.0', '1 week % increase': '7.72', 'WHO Region': 'Eastern Mediterranean'}\n",
      "{'Country/Region': 'Kyrgyzstan', 'Confirmed': '33296', 'Deaths': '1301.0', 'Recovered': '21205.0', 'Active': '10790.0', 'New cases': '483.0', 'New deaths': '24.0', 'New recovered': '817.0', 'Deaths / 100 Cases': '3.91', 'Recovered / 100 Cases': '63.69', 'Deaths / 100 Recovered': '6.14', 'Confirmed last week': '27143.0', '1 week change': '6153.0', '1 week % increase': '22.67', 'WHO Region': 'Europe'}\n",
      "{'Country/Region': 'Laos', 'Confirmed': '20', 'Deaths': '0.0', 'Recovered': '19.0', 'Active': '1.0', 'New cases': '0.0', 'New deaths': '0.0', 'New recovered': '0.0', 'Deaths / 100 Cases': '0.0', 'Recovered / 100 Cases': '95.0', 'Deaths / 100 Recovered': '0.0', 'Confirmed last week': '19.0', '1 week change': '1.0', '1 week % increase': '5.26', 'WHO Region': 'Western Pacific'}\n",
      "{'Country/Region': 'Latvia', 'Confirmed': '1219', 'Deaths': '31.0', 'Recovered': '1045.0', 'Active': '143.0', 'New cases': '0.0', 'New deaths': '0.0', 'New recovered': '0.0', 'Deaths / 100 Cases': '2.54', 'Recovered / 100 Cases': '85.73', 'Deaths / 100 Recovered': '2.97', 'Confirmed last week': '1192.0', '1 week change': '27.0', '1 week % increase': '2.27', 'WHO Region': 'Europe'}\n",
      "{'Country/Region': 'Lebanon', 'Confirmed': '3882', 'Deaths': '51.0', 'Recovered': '1709.0', 'Active': '2122.0', 'New cases': '132.0', 'New deaths': '0.0', 'New recovered': '17.0', 'Deaths / 100 Cases': '1.31', 'Recovered / 100 Cases': '44.02', 'Deaths / 100 Recovered': '2.98', 'Confirmed last week': '2905.0', '1 week change': '977.0', '1 week % increase': '33.63', 'WHO Region': 'Eastern Mediterranean'}\n",
      "{'Country/Region': 'Lesotho', 'Confirmed': '505', 'Deaths': '12.0', 'Recovered': '128.0', 'Active': '365.0', 'New cases': '0.0', 'New deaths': '0.0', 'New recovered': '0.0', 'Deaths / 100 Cases': '2.38', 'Recovered / 100 Cases': '25.35', 'Deaths / 100 Recovered': '9.38', 'Confirmed last week': '359.0', '1 week change': '146.0', '1 week % increase': '40.67', 'WHO Region': 'Africa'}\n",
      "{'Country/Region': 'Liberia', 'Confirmed': '1167', 'Deaths': '72.0', 'Recovered': '646.0', 'Active': '449.0', 'New cases': '5.0', 'New deaths': '0.0', 'New recovered': '5.0', 'Deaths / 100 Cases': '6.17', 'Recovered / 100 Cases': '55.36', 'Deaths / 100 Recovered': '11.15', 'Confirmed last week': '1107.0', '1 week change': '60.0', '1 week % increase': '5.42', 'WHO Region': 'Africa'}\n",
      "{'Country/Region': 'Libya', 'Confirmed': '2827', 'Deaths': '64.0', 'Recovered': '577.0', 'Active': '2186.0', 'New cases': '158.0', 'New deaths': '4.0', 'New recovered': '24.0', 'Deaths / 100 Cases': '2.26', 'Recovered / 100 Cases': '20.41', 'Deaths / 100 Recovered': '11.09', 'Confirmed last week': '1980.0', '1 week change': '847.0', '1 week % increase': '42.78', 'WHO Region': 'Eastern Mediterranean'}\n",
      "{'Country/Region': 'Liechtenstein', 'Confirmed': '86', 'Deaths': '1.0', 'Recovered': '81.0', 'Active': '4.0', 'New cases': '0.0', 'New deaths': '0.0', 'New recovered': '0.0', 'Deaths / 100 Cases': '1.16', 'Recovered / 100 Cases': '94.19', 'Deaths / 100 Recovered': '1.23', 'Confirmed last week': '86.0', '1 week change': '0.0', '1 week % increase': '0.0', 'WHO Region': 'Europe'}\n",
      "{'Country/Region': 'Lithuania', 'Confirmed': '2019', 'Deaths': '80.0', 'Recovered': '1620.0', 'Active': '319.0', 'New cases': '11.0', 'New deaths': '0.0', 'New recovered': '4.0', 'Deaths / 100 Cases': '3.96', 'Recovered / 100 Cases': '80.24', 'Deaths / 100 Recovered': '4.94', 'Confirmed last week': '1947.0', '1 week change': '72.0', '1 week % increase': '3.7', 'WHO Region': 'Europe'}\n",
      "{'Country/Region': 'Luxembourg', 'Confirmed': '6321', 'Deaths': '112.0', 'Recovered': '4825.0', 'Active': '1384.0', 'New cases': '49.0', 'New deaths': '0.0', 'New recovered': '178.0', 'Deaths / 100 Cases': '1.77', 'Recovered / 100 Cases': '76.33', 'Deaths / 100 Recovered': '2.32', 'Confirmed last week': '5639.0', '1 week change': '682.0', '1 week % increase': '12.09', 'WHO Region': 'Europe'}\n",
      "{'Country/Region': 'Madagascar', 'Confirmed': '9690', 'Deaths': '91.0', 'Recovered': '6260.0', 'Active': '3339.0', 'New cases': '395.0', 'New deaths': '6.0', 'New recovered': '681.0', 'Deaths / 100 Cases': '0.94', 'Recovered / 100 Cases': '64.6', 'Deaths / 100 Recovered': '1.45', 'Confirmed last week': '7153.0', '1 week change': '2537.0', '1 week % increase': '35.47', 'WHO Region': 'Africa'}\n",
      "{'Country/Region': 'Malawi', 'Confirmed': '3664', 'Deaths': '99.0', 'Recovered': '1645.0', 'Active': '1920.0', 'New cases': '24.0', 'New deaths': '0.0', 'New recovered': '6.0', 'Deaths / 100 Cases': '2.7', 'Recovered / 100 Cases': '44.9', 'Deaths / 100 Recovered': '6.02', 'Confirmed last week': '2992.0', '1 week change': '672.0', '1 week % increase': '22.46', 'WHO Region': 'Africa'}\n",
      "{'Country/Region': 'Malaysia', 'Confirmed': '8904', 'Deaths': '124.0', 'Recovered': '8601.0', 'Active': '179.0', 'New cases': '7.0', 'New deaths': '0.0', 'New recovered': '1.0', 'Deaths / 100 Cases': '1.39', 'Recovered / 100 Cases': '96.6', 'Deaths / 100 Recovered': '1.44', 'Confirmed last week': '8800.0', '1 week change': '104.0', '1 week % increase': '1.18', 'WHO Region': 'Western Pacific'}\n",
      "{'Country/Region': 'Maldives', 'Confirmed': '3369', 'Deaths': '15.0', 'Recovered': '2547.0', 'Active': '807.0', 'New cases': '67.0', 'New deaths': '0.0', 'New recovered': '19.0', 'Deaths / 100 Cases': '0.45', 'Recovered / 100 Cases': '75.6', 'Deaths / 100 Recovered': '0.59', 'Confirmed last week': '2999.0', '1 week change': '370.0', '1 week % increase': '12.34', 'WHO Region': 'South-East Asia'}\n",
      "{'Country/Region': 'Mali', 'Confirmed': '2513', 'Deaths': '124.0', 'Recovered': '1913.0', 'Active': '476.0', 'New cases': '3.0', 'New deaths': '1.0', 'New recovered': '2.0', 'Deaths / 100 Cases': '4.93', 'Recovered / 100 Cases': '76.12', 'Deaths / 100 Recovered': '6.48', 'Confirmed last week': '2475.0', '1 week change': '38.0', '1 week % increase': '1.54', 'WHO Region': 'Africa'}\n",
      "{'Country/Region': 'Malta', 'Confirmed': '701', 'Deaths': '9.0', 'Recovered': '665.0', 'Active': '27.0', 'New cases': '1.0', 'New deaths': '0.0', 'New recovered': '0.0', 'Deaths / 100 Cases': '1.28', 'Recovered / 100 Cases': '94.86', 'Deaths / 100 Recovered': '1.35', 'Confirmed last week': '677.0', '1 week change': '24.0', '1 week % increase': '3.55', 'WHO Region': 'Europe'}\n",
      "{'Country/Region': 'Mauritania', 'Confirmed': '6208', 'Deaths': '156.0', 'Recovered': '4653.0', 'Active': '1399.0', 'New cases': '37.0', 'New deaths': '0.0', 'New recovered': '223.0', 'Deaths / 100 Cases': '2.51', 'Recovered / 100 Cases': '74.95', 'Deaths / 100 Recovered': '3.35', 'Confirmed last week': '5923.0', '1 week change': '285.0', '1 week % increase': '4.81', 'WHO Region': 'Africa'}\n",
      "{'Country/Region': 'Mauritius', 'Confirmed': '344', 'Deaths': '10.0', 'Recovered': '332.0', 'Active': '2.0', 'New cases': '0.0', 'New deaths': '0.0', 'New recovered': '0.0', 'Deaths / 100 Cases': '2.91', 'Recovered / 100 Cases': '96.51', 'Deaths / 100 Recovered': '3.01', 'Confirmed last week': '343.0', '1 week change': '1.0', '1 week % increase': '0.29', 'WHO Region': 'Africa'}\n",
      "{'Country/Region': 'Mexico', 'Confirmed': '395489', 'Deaths': '44022.0', 'Recovered': '303810.0', 'Active': '47657.0', 'New cases': '4973.0', 'New deaths': '342.0', 'New recovered': '8588.0', 'Deaths / 100 Cases': '11.13', 'Recovered / 100 Cases': '76.82', 'Deaths / 100 Recovered': '14.49', 'Confirmed last week': '349396.0', '1 week change': '46093.0', '1 week % increase': '13.19', 'WHO Region': 'Americas'}\n",
      "{'Country/Region': 'Moldova', 'Confirmed': '23154', 'Deaths': '748.0', 'Recovered': '16154.0', 'Active': '6252.0', 'New cases': '120.0', 'New deaths': '13.0', 'New recovered': '245.0', 'Deaths / 100 Cases': '3.23', 'Recovered / 100 Cases': '69.77', 'Deaths / 100 Recovered': '4.63', 'Confirmed last week': '21115.0', '1 week change': '2039.0', '1 week % increase': '9.66', 'WHO Region': 'Europe'}\n",
      "{'Country/Region': 'Monaco', 'Confirmed': '116', 'Deaths': '4.0', 'Recovered': '104.0', 'Active': '8.0', 'New cases': '0.0', 'New deaths': '0.0', 'New recovered': '0.0', 'Deaths / 100 Cases': '3.45', 'Recovered / 100 Cases': '89.66', 'Deaths / 100 Recovered': '3.85', 'Confirmed last week': '109.0', '1 week change': '7.0', '1 week % increase': '6.42', 'WHO Region': 'Europe'}\n",
      "{'Country/Region': 'Mongolia', 'Confirmed': '289', 'Deaths': '0.0', 'Recovered': '222.0', 'Active': '67.0', 'New cases': '1.0', 'New deaths': '0.0', 'New recovered': '4.0', 'Deaths / 100 Cases': '0.0', 'Recovered / 100 Cases': '76.82', 'Deaths / 100 Recovered': '0.0', 'Confirmed last week': '287.0', '1 week change': '2.0', '1 week % increase': '0.7', 'WHO Region': 'Western Pacific'}\n",
      "{'Country/Region': 'Montenegro', 'Confirmed': '2893', 'Deaths': '45.0', 'Recovered': '809.0', 'Active': '2039.0', 'New cases': '94.0', 'New deaths': '2.0', 'New recovered': '70.0', 'Deaths / 100 Cases': '1.56', 'Recovered / 100 Cases': '27.96', 'Deaths / 100 Recovered': '5.56', 'Confirmed last week': '2188.0', '1 week change': '705.0', '1 week % increase': '32.22', 'WHO Region': 'Europe'}\n",
      "{'Country/Region': 'Morocco', 'Confirmed': '20887', 'Deaths': '316.0', 'Recovered': '16553.0', 'Active': '4018.0', 'New cases': '609.0', 'New deaths': '3.0', 'New recovered': '115.0', 'Deaths / 100 Cases': '1.51', 'Recovered / 100 Cases': '79.25', 'Deaths / 100 Recovered': '1.91', 'Confirmed last week': '17562.0', '1 week change': '3325.0', '1 week % increase': '18.93', 'WHO Region': 'Eastern Mediterranean'}\n",
      "{'Country/Region': 'Mozambique', 'Confirmed': '1701', 'Deaths': '11.0', 'Recovered': '0.0', 'Active': '1690.0', 'New cases': '32.0', 'New deaths': '0.0', 'New recovered': '0.0', 'Deaths / 100 Cases': '0.65', 'Recovered / 100 Cases': '0.0', 'Deaths / 100 Recovered': 'inf', 'Confirmed last week': '1507.0', '1 week change': '194.0', '1 week % increase': '12.87', 'WHO Region': 'Africa'}\n",
      "{'Country/Region': 'Namibia', 'Confirmed': '1843', 'Deaths': '8.0', 'Recovered': '101.0', 'Active': '1734.0', 'New cases': '68.0', 'New deaths': '0.0', 'New recovered': '26.0', 'Deaths / 100 Cases': '0.43', 'Recovered / 100 Cases': '5.48', 'Deaths / 100 Recovered': '7.92', 'Confirmed last week': '1344.0', '1 week change': '499.0', '1 week % increase': '37.13', 'WHO Region': 'Africa'}\n",
      "{'Country/Region': 'Nepal', 'Confirmed': '18752', 'Deaths': '48.0', 'Recovered': '13754.0', 'Active': '4950.0', 'New cases': '139.0', 'New deaths': '3.0', 'New recovered': '626.0', 'Deaths / 100 Cases': '0.26', 'Recovered / 100 Cases': '73.35', 'Deaths / 100 Recovered': '0.35', 'Confirmed last week': '17844.0', '1 week change': '908.0', '1 week % increase': '5.09', 'WHO Region': 'South-East Asia'}\n",
      "{'Country/Region': 'Netherlands', 'Confirmed': '53413', 'Deaths': '6160.0', 'Recovered': '189.0', 'Active': '47064.0', 'New cases': '419.0', 'New deaths': '1.0', 'New recovered': '0.0', 'Deaths / 100 Cases': '11.53', 'Recovered / 100 Cases': '0.35', 'Deaths / 100 Recovered': '3259.26', 'Confirmed last week': '52132.0', '1 week change': '1281.0', '1 week % increase': '2.46', 'WHO Region': 'Europe'}\n",
      "{'Country/Region': 'New Zealand', 'Confirmed': '1557', 'Deaths': '22.0', 'Recovered': '1514.0', 'Active': '21.0', 'New cases': '1.0', 'New deaths': '0.0', 'New recovered': '1.0', 'Deaths / 100 Cases': '1.41', 'Recovered / 100 Cases': '97.24', 'Deaths / 100 Recovered': '1.45', 'Confirmed last week': '1555.0', '1 week change': '2.0', '1 week % increase': '0.13', 'WHO Region': 'Western Pacific'}\n",
      "{'Country/Region': 'Nicaragua', 'Confirmed': '3439', 'Deaths': '108.0', 'Recovered': '2492.0', 'Active': '839.0', 'New cases': '0.0', 'New deaths': '0.0', 'New recovered': '0.0', 'Deaths / 100 Cases': '3.14', 'Recovered / 100 Cases': '72.46', 'Deaths / 100 Recovered': '4.33', 'Confirmed last week': '3147.0', '1 week change': '292.0', '1 week % increase': '9.28', 'WHO Region': 'Americas'}\n",
      "{'Country/Region': 'Niger', 'Confirmed': '1132', 'Deaths': '69.0', 'Recovered': '1027.0', 'Active': '36.0', 'New cases': '0.0', 'New deaths': '0.0', 'New recovered': '0.0', 'Deaths / 100 Cases': '6.1', 'Recovered / 100 Cases': '90.72', 'Deaths / 100 Recovered': '6.72', 'Confirmed last week': '1105.0', '1 week change': '27.0', '1 week % increase': '2.44', 'WHO Region': 'Africa'}\n",
      "{'Country/Region': 'Nigeria', 'Confirmed': '41180', 'Deaths': '860.0', 'Recovered': '18203.0', 'Active': '22117.0', 'New cases': '648.0', 'New deaths': '2.0', 'New recovered': '829.0', 'Deaths / 100 Cases': '2.09', 'Recovered / 100 Cases': '44.2', 'Deaths / 100 Recovered': '4.72', 'Confirmed last week': '37225.0', '1 week change': '3955.0', '1 week % increase': '10.62', 'WHO Region': 'Africa'}\n",
      "{'Country/Region': 'North Macedonia', 'Confirmed': '10213', 'Deaths': '466.0', 'Recovered': '5564.0', 'Active': '4183.0', 'New cases': '127.0', 'New deaths': '6.0', 'New recovered': '137.0', 'Deaths / 100 Cases': '4.56', 'Recovered / 100 Cases': '54.48', 'Deaths / 100 Recovered': '8.38', 'Confirmed last week': '9249.0', '1 week change': '964.0', '1 week % increase': '10.42', 'WHO Region': 'Europe'}\n",
      "{'Country/Region': 'Norway', 'Confirmed': '9132', 'Deaths': '255.0', 'Recovered': '8752.0', 'Active': '125.0', 'New cases': '15.0', 'New deaths': '0.0', 'New recovered': '0.0', 'Deaths / 100 Cases': '2.79', 'Recovered / 100 Cases': '95.84', 'Deaths / 100 Recovered': '2.91', 'Confirmed last week': '9034.0', '1 week change': '98.0', '1 week % increase': '1.08', 'WHO Region': 'Europe'}\n",
      "{'Country/Region': 'Oman', 'Confirmed': '77058', 'Deaths': '393.0', 'Recovered': '57028.0', 'Active': '19637.0', 'New cases': '1053.0', 'New deaths': '9.0', 'New recovered': '1729.0', 'Deaths / 100 Cases': '0.51', 'Recovered / 100 Cases': '74.01', 'Deaths / 100 Recovered': '0.69', 'Confirmed last week': '68400.0', '1 week change': '8658.0', '1 week % increase': '12.66', 'WHO Region': 'Eastern Mediterranean'}\n",
      "{'Country/Region': 'Pakistan', 'Confirmed': '274289', 'Deaths': '5842.0', 'Recovered': '241026.0', 'Active': '27421.0', 'New cases': '1176.0', 'New deaths': '20.0', 'New recovered': '3592.0', 'Deaths / 100 Cases': '2.13', 'Recovered / 100 Cases': '87.87', 'Deaths / 100 Recovered': '2.42', 'Confirmed last week': '266096.0', '1 week change': '8193.0', '1 week % increase': '3.08', 'WHO Region': 'Eastern Mediterranean'}\n",
      "{'Country/Region': 'Panama', 'Confirmed': '61442', 'Deaths': '1322.0', 'Recovered': '35086.0', 'Active': '25034.0', 'New cases': '1146.0', 'New deaths': '28.0', 'New recovered': '955.0', 'Deaths / 100 Cases': '2.15', 'Recovered / 100 Cases': '57.1', 'Deaths / 100 Recovered': '3.77', 'Confirmed last week': '54426.0', '1 week change': '7016.0', '1 week % increase': '12.89', 'WHO Region': 'Americas'}\n",
      "{'Country/Region': 'Papua New Guinea', 'Confirmed': '62', 'Deaths': '0.0', 'Recovered': '11.0', 'Active': '51.0', 'New cases': '0.0', 'New deaths': '0.0', 'New recovered': '0.0', 'Deaths / 100 Cases': '0.0', 'Recovered / 100 Cases': '17.74', 'Deaths / 100 Recovered': '0.0', 'Confirmed last week': '19.0', '1 week change': '43.0', '1 week % increase': '226.32', 'WHO Region': 'Western Pacific'}\n",
      "{'Country/Region': 'Paraguay', 'Confirmed': '4548', 'Deaths': '43.0', 'Recovered': '2905.0', 'Active': '1600.0', 'New cases': '104.0', 'New deaths': '2.0', 'New recovered': '111.0', 'Deaths / 100 Cases': '0.95', 'Recovered / 100 Cases': '63.87', 'Deaths / 100 Recovered': '1.48', 'Confirmed last week': '3748.0', '1 week change': '800.0', '1 week % increase': '21.34', 'WHO Region': 'Americas'}\n",
      "{'Country/Region': 'Peru', 'Confirmed': '389717', 'Deaths': '18418.0', 'Recovered': '272547.0', 'Active': '98752.0', 'New cases': '13756.0', 'New deaths': '575.0', 'New recovered': '4697.0', 'Deaths / 100 Cases': '4.73', 'Recovered / 100 Cases': '69.93', 'Deaths / 100 Recovered': '6.76', 'Confirmed last week': '357681.0', '1 week change': '32036.0', '1 week % increase': '8.96', 'WHO Region': 'Americas'}\n",
      "{'Country/Region': 'Philippines', 'Confirmed': '82040', 'Deaths': '1945.0', 'Recovered': '26446.0', 'Active': '53649.0', 'New cases': '1592.0', 'New deaths': '13.0', 'New recovered': '336.0', 'Deaths / 100 Cases': '2.37', 'Recovered / 100 Cases': '32.24', 'Deaths / 100 Recovered': '7.35', 'Confirmed last week': '68898.0', '1 week change': '13142.0', '1 week % increase': '19.07', 'WHO Region': 'Western Pacific'}\n",
      "{'Country/Region': 'Poland', 'Confirmed': '43402', 'Deaths': '1676.0', 'Recovered': '32856.0', 'Active': '8870.0', 'New cases': '337.0', 'New deaths': '5.0', 'New recovered': '103.0', 'Deaths / 100 Cases': '3.86', 'Recovered / 100 Cases': '75.7', 'Deaths / 100 Recovered': '5.1', 'Confirmed last week': '40383.0', '1 week change': '3019.0', '1 week % increase': '7.48', 'WHO Region': 'Europe'}\n",
      "{'Country/Region': 'Portugal', 'Confirmed': '50299', 'Deaths': '1719.0', 'Recovered': '35375.0', 'Active': '13205.0', 'New cases': '135.0', 'New deaths': '2.0', 'New recovered': '158.0', 'Deaths / 100 Cases': '3.42', 'Recovered / 100 Cases': '70.33', 'Deaths / 100 Recovered': '4.86', 'Confirmed last week': '48771.0', '1 week change': '1528.0', '1 week % increase': '3.13', 'WHO Region': 'Europe'}\n",
      "{'Country/Region': 'Qatar', 'Confirmed': '109597', 'Deaths': '165.0', 'Recovered': '106328.0', 'Active': '3104.0', 'New cases': '292.0', 'New deaths': '0.0', 'New recovered': '304.0', 'Deaths / 100 Cases': '0.15', 'Recovered / 100 Cases': '97.02', 'Deaths / 100 Recovered': '0.16', 'Confirmed last week': '107037.0', '1 week change': '2560.0', '1 week % increase': '2.39', 'WHO Region': 'Eastern Mediterranean'}\n",
      "{'Country/Region': 'Romania', 'Confirmed': '45902', 'Deaths': '2206.0', 'Recovered': '25794.0', 'Active': '17902.0', 'New cases': '1104.0', 'New deaths': '19.0', 'New recovered': '151.0', 'Deaths / 100 Cases': '4.81', 'Recovered / 100 Cases': '56.19', 'Deaths / 100 Recovered': '8.55', 'Confirmed last week': '38139.0', '1 week change': '7763.0', '1 week % increase': '20.35', 'WHO Region': 'Europe'}\n",
      "{'Country/Region': 'Russia', 'Confirmed': '816680', 'Deaths': '13334.0', 'Recovered': '602249.0', 'Active': '201097.0', 'New cases': '5607.0', 'New deaths': '85.0', 'New recovered': '3077.0', 'Deaths / 100 Cases': '1.63', 'Recovered / 100 Cases': '73.74', 'Deaths / 100 Recovered': '2.21', 'Confirmed last week': '776212.0', '1 week change': '40468.0', '1 week % increase': '5.21', 'WHO Region': 'Europe'}\n",
      "{'Country/Region': 'Rwanda', 'Confirmed': '1879', 'Deaths': '5.0', 'Recovered': '975.0', 'Active': '899.0', 'New cases': '58.0', 'New deaths': '0.0', 'New recovered': '57.0', 'Deaths / 100 Cases': '0.27', 'Recovered / 100 Cases': '51.89', 'Deaths / 100 Recovered': '0.51', 'Confirmed last week': '1629.0', '1 week change': '250.0', '1 week % increase': '15.35', 'WHO Region': 'Africa'}\n",
      "{'Country/Region': 'Saint Kitts and Nevis', 'Confirmed': '17', 'Deaths': '0.0', 'Recovered': '15.0', 'Active': '2.0', 'New cases': '0.0', 'New deaths': '0.0', 'New recovered': '0.0', 'Deaths / 100 Cases': '0.0', 'Recovered / 100 Cases': '88.24', 'Deaths / 100 Recovered': '0.0', 'Confirmed last week': '17.0', '1 week change': '0.0', '1 week % increase': '0.0', 'WHO Region': 'Americas'}\n",
      "{'Country/Region': 'Saint Lucia', 'Confirmed': '24', 'Deaths': '0.0', 'Recovered': '22.0', 'Active': '2.0', 'New cases': '0.0', 'New deaths': '0.0', 'New recovered': '0.0', 'Deaths / 100 Cases': '0.0', 'Recovered / 100 Cases': '91.67', 'Deaths / 100 Recovered': '0.0', 'Confirmed last week': '23.0', '1 week change': '1.0', '1 week % increase': '4.35', 'WHO Region': 'Americas'}\n",
      "{'Country/Region': 'Saint Vincent and the Grenadines', 'Confirmed': '52', 'Deaths': '0.0', 'Recovered': '39.0', 'Active': '13.0', 'New cases': '0.0', 'New deaths': '0.0', 'New recovered': '0.0', 'Deaths / 100 Cases': '0.0', 'Recovered / 100 Cases': '75.0', 'Deaths / 100 Recovered': '0.0', 'Confirmed last week': '50.0', '1 week change': '2.0', '1 week % increase': '4.0', 'WHO Region': 'Americas'}\n",
      "{'Country/Region': 'San Marino', 'Confirmed': '699', 'Deaths': '42.0', 'Recovered': '657.0', 'Active': '0.0', 'New cases': '0.0', 'New deaths': '0.0', 'New recovered': '0.0', 'Deaths / 100 Cases': '6.01', 'Recovered / 100 Cases': '93.99', 'Deaths / 100 Recovered': '6.39', 'Confirmed last week': '699.0', '1 week change': '0.0', '1 week % increase': '0.0', 'WHO Region': 'Europe'}\n",
      "{'Country/Region': 'Sao Tome and Principe', 'Confirmed': '865', 'Deaths': '14.0', 'Recovered': '734.0', 'Active': '117.0', 'New cases': '2.0', 'New deaths': '0.0', 'New recovered': '38.0', 'Deaths / 100 Cases': '1.62', 'Recovered / 100 Cases': '84.86', 'Deaths / 100 Recovered': '1.91', 'Confirmed last week': '746.0', '1 week change': '119.0', '1 week % increase': '15.95', 'WHO Region': 'Africa'}\n",
      "{'Country/Region': 'Saudi Arabia', 'Confirmed': '268934', 'Deaths': '2760.0', 'Recovered': '222936.0', 'Active': '43238.0', 'New cases': '1993.0', 'New deaths': '27.0', 'New recovered': '2613.0', 'Deaths / 100 Cases': '1.03', 'Recovered / 100 Cases': '82.9', 'Deaths / 100 Recovered': '1.24', 'Confirmed last week': '253349.0', '1 week change': '15585.0', '1 week % increase': '6.15', 'WHO Region': 'Eastern Mediterranean'}\n",
      "{'Country/Region': 'Senegal', 'Confirmed': '9764', 'Deaths': '194.0', 'Recovered': '6477.0', 'Active': '3093.0', 'New cases': '83.0', 'New deaths': '3.0', 'New recovered': '68.0', 'Deaths / 100 Cases': '1.99', 'Recovered / 100 Cases': '66.34', 'Deaths / 100 Recovered': '3.0', 'Confirmed last week': '8948.0', '1 week change': '816.0', '1 week % increase': '9.12', 'WHO Region': 'Africa'}\n",
      "{'Country/Region': 'Serbia', 'Confirmed': '24141', 'Deaths': '543.0', 'Recovered': '0.0', 'Active': '23598.0', 'New cases': '411.0', 'New deaths': '9.0', 'New recovered': '0.0', 'Deaths / 100 Cases': '2.25', 'Recovered / 100 Cases': '0.0', 'Deaths / 100 Recovered': 'inf', 'Confirmed last week': '21253.0', '1 week change': '2888.0', '1 week % increase': '13.59', 'WHO Region': 'Europe'}\n",
      "{'Country/Region': 'Seychelles', 'Confirmed': '114', 'Deaths': '0.0', 'Recovered': '39.0', 'Active': '75.0', 'New cases': '0.0', 'New deaths': '0.0', 'New recovered': '0.0', 'Deaths / 100 Cases': '0.0', 'Recovered / 100 Cases': '34.21', 'Deaths / 100 Recovered': '0.0', 'Confirmed last week': '108.0', '1 week change': '6.0', '1 week % increase': '5.56', 'WHO Region': 'Africa'}\n",
      "{'Country/Region': 'Sierra Leone', 'Confirmed': '1783', 'Deaths': '66.0', 'Recovered': '1317.0', 'Active': '400.0', 'New cases': '0.0', 'New deaths': '0.0', 'New recovered': '4.0', 'Deaths / 100 Cases': '3.7', 'Recovered / 100 Cases': '73.86', 'Deaths / 100 Recovered': '5.01', 'Confirmed last week': '1711.0', '1 week change': '72.0', '1 week % increase': '4.21', 'WHO Region': 'Africa'}\n",
      "{'Country/Region': 'Singapore', 'Confirmed': '50838', 'Deaths': '27.0', 'Recovered': '45692.0', 'Active': '5119.0', 'New cases': '469.0', 'New deaths': '0.0', 'New recovered': '171.0', 'Deaths / 100 Cases': '0.05', 'Recovered / 100 Cases': '89.88', 'Deaths / 100 Recovered': '0.06', 'Confirmed last week': '48035.0', '1 week change': '2803.0', '1 week % increase': '5.84', 'WHO Region': 'Western Pacific'}\n",
      "{'Country/Region': 'Slovakia', 'Confirmed': '2181', 'Deaths': '28.0', 'Recovered': '1616.0', 'Active': '537.0', 'New cases': '2.0', 'New deaths': '0.0', 'New recovered': '39.0', 'Deaths / 100 Cases': '1.28', 'Recovered / 100 Cases': '74.09', 'Deaths / 100 Recovered': '1.73', 'Confirmed last week': '1980.0', '1 week change': '201.0', '1 week % increase': '10.15', 'WHO Region': 'Europe'}\n",
      "{'Country/Region': 'Slovenia', 'Confirmed': '2087', 'Deaths': '116.0', 'Recovered': '1733.0', 'Active': '238.0', 'New cases': '5.0', 'New deaths': '0.0', 'New recovered': '55.0', 'Deaths / 100 Cases': '5.56', 'Recovered / 100 Cases': '83.04', 'Deaths / 100 Recovered': '6.69', 'Confirmed last week': '1953.0', '1 week change': '134.0', '1 week % increase': '6.86', 'WHO Region': 'Europe'}\n",
      "{'Country/Region': 'Somalia', 'Confirmed': '3196', 'Deaths': '93.0', 'Recovered': '1543.0', 'Active': '1560.0', 'New cases': '18.0', 'New deaths': '0.0', 'New recovered': '22.0', 'Deaths / 100 Cases': '2.91', 'Recovered / 100 Cases': '48.28', 'Deaths / 100 Recovered': '6.03', 'Confirmed last week': '3130.0', '1 week change': '66.0', '1 week % increase': '2.11', 'WHO Region': 'Eastern Mediterranean'}\n",
      "{'Country/Region': 'South Africa', 'Confirmed': '452529', 'Deaths': '7067.0', 'Recovered': '274925.0', 'Active': '170537.0', 'New cases': '7096.0', 'New deaths': '298.0', 'New recovered': '9848.0', 'Deaths / 100 Cases': '1.56', 'Recovered / 100 Cases': '60.75', 'Deaths / 100 Recovered': '2.57', 'Confirmed last week': '373628.0', '1 week change': '78901.0', '1 week % increase': '21.12', 'WHO Region': 'Africa'}\n",
      "{'Country/Region': 'South Korea', 'Confirmed': '14203', 'Deaths': '300.0', 'Recovered': '13007.0', 'Active': '896.0', 'New cases': '28.0', 'New deaths': '1.0', 'New recovered': '102.0', 'Deaths / 100 Cases': '2.11', 'Recovered / 100 Cases': '91.58', 'Deaths / 100 Recovered': '2.31', 'Confirmed last week': '13816.0', '1 week change': '387.0', '1 week % increase': '2.8', 'WHO Region': 'Western Pacific'}\n",
      "{'Country/Region': 'South Sudan', 'Confirmed': '2305', 'Deaths': '46.0', 'Recovered': '1175.0', 'Active': '1084.0', 'New cases': '43.0', 'New deaths': '1.0', 'New recovered': '0.0', 'Deaths / 100 Cases': '2.0', 'Recovered / 100 Cases': '50.98', 'Deaths / 100 Recovered': '3.91', 'Confirmed last week': '2211.0', '1 week change': '94.0', '1 week % increase': '4.25', 'WHO Region': 'Africa'}\n",
      "{'Country/Region': 'Spain', 'Confirmed': '272421', 'Deaths': '28432.0', 'Recovered': '150376.0', 'Active': '93613.0', 'New cases': '0.0', 'New deaths': '0.0', 'New recovered': '0.0', 'Deaths / 100 Cases': '10.44', 'Recovered / 100 Cases': '55.2', 'Deaths / 100 Recovered': '18.91', 'Confirmed last week': '264836.0', '1 week change': '7585.0', '1 week % increase': '2.86', 'WHO Region': 'Europe'}\n",
      "{'Country/Region': 'Sri Lanka', 'Confirmed': '2805', 'Deaths': '11.0', 'Recovered': '2121.0', 'Active': '673.0', 'New cases': '23.0', 'New deaths': '0.0', 'New recovered': '15.0', 'Deaths / 100 Cases': '0.39', 'Recovered / 100 Cases': '75.61', 'Deaths / 100 Recovered': '0.52', 'Confirmed last week': '2730.0', '1 week change': '75.0', '1 week % increase': '2.75', 'WHO Region': 'South-East Asia'}\n",
      "{'Country/Region': 'Sudan', 'Confirmed': '11424', 'Deaths': '720.0', 'Recovered': '5939.0', 'Active': '4765.0', 'New cases': '39.0', 'New deaths': '3.0', 'New recovered': '49.0', 'Deaths / 100 Cases': '6.3', 'Recovered / 100 Cases': '51.99', 'Deaths / 100 Recovered': '12.12', 'Confirmed last week': '10992.0', '1 week change': '432.0', '1 week % increase': '3.93', 'WHO Region': 'Eastern Mediterranean'}\n",
      "{'Country/Region': 'Suriname', 'Confirmed': '1483', 'Deaths': '24.0', 'Recovered': '925.0', 'Active': '534.0', 'New cases': '44.0', 'New deaths': '1.0', 'New recovered': '35.0', 'Deaths / 100 Cases': '1.62', 'Recovered / 100 Cases': '62.37', 'Deaths / 100 Recovered': '2.59', 'Confirmed last week': '1079.0', '1 week change': '404.0', '1 week % increase': '37.44', 'WHO Region': 'Americas'}\n",
      "{'Country/Region': 'Sweden', 'Confirmed': '79395', 'Deaths': '5700.0', 'Recovered': '0.0', 'Active': '73695.0', 'New cases': '398.0', 'New deaths': '3.0', 'New recovered': '0.0', 'Deaths / 100 Cases': '7.18', 'Recovered / 100 Cases': '0.0', 'Deaths / 100 Recovered': 'inf', 'Confirmed last week': '78048.0', '1 week change': '1347.0', '1 week % increase': '1.73', 'WHO Region': 'Europe'}\n",
      "{'Country/Region': 'Switzerland', 'Confirmed': '34477', 'Deaths': '1978.0', 'Recovered': '30900.0', 'Active': '1599.0', 'New cases': '65.0', 'New deaths': '1.0', 'New recovered': '200.0', 'Deaths / 100 Cases': '5.74', 'Recovered / 100 Cases': '89.62', 'Deaths / 100 Recovered': '6.4', 'Confirmed last week': '33634.0', '1 week change': '843.0', '1 week % increase': '2.51', 'WHO Region': 'Europe'}\n",
      "{'Country/Region': 'Syria', 'Confirmed': '674', 'Deaths': '40.0', 'Recovered': '0.0', 'Active': '634.0', 'New cases': '24.0', 'New deaths': '2.0', 'New recovered': '0.0', 'Deaths / 100 Cases': '5.93', 'Recovered / 100 Cases': '0.0', 'Deaths / 100 Recovered': 'inf', 'Confirmed last week': '522.0', '1 week change': '152.0', '1 week % increase': '29.12', 'WHO Region': 'Eastern Mediterranean'}\n",
      "{'Country/Region': 'Taiwan*', 'Confirmed': '462', 'Deaths': '7.0', 'Recovered': '440.0', 'Active': '15.0', 'New cases': '4.0', 'New deaths': '0.0', 'New recovered': '0.0', 'Deaths / 100 Cases': '1.52', 'Recovered / 100 Cases': '95.24', 'Deaths / 100 Recovered': '1.59', 'Confirmed last week': '451.0', '1 week change': '11.0', '1 week % increase': '2.44', 'WHO Region': 'Western Pacific'}\n",
      "{'Country/Region': 'Tajikistan', 'Confirmed': '7235', 'Deaths': '60.0', 'Recovered': '6028.0', 'Active': '1147.0', 'New cases': '43.0', 'New deaths': '1.0', 'New recovered': '58.0', 'Deaths / 100 Cases': '0.83', 'Recovered / 100 Cases': '83.32', 'Deaths / 100 Recovered': '1.0', 'Confirmed last week': '6921.0', '1 week change': '314.0', '1 week % increase': '4.54', 'WHO Region': 'Europe'}\n",
      "{'Country/Region': 'Tanzania', 'Confirmed': '509', 'Deaths': '21.0', 'Recovered': '183.0', 'Active': '305.0', 'New cases': '0.0', 'New deaths': '0.0', 'New recovered': '0.0', 'Deaths / 100 Cases': '4.13', 'Recovered / 100 Cases': '35.95', 'Deaths / 100 Recovered': '11.48', 'Confirmed last week': '509.0', '1 week change': '0.0', '1 week % increase': '0.0', 'WHO Region': 'Africa'}\n",
      "{'Country/Region': 'Thailand', 'Confirmed': '3297', 'Deaths': '58.0', 'Recovered': '3111.0', 'Active': '128.0', 'New cases': '6.0', 'New deaths': '0.0', 'New recovered': '2.0', 'Deaths / 100 Cases': '1.76', 'Recovered / 100 Cases': '94.36', 'Deaths / 100 Recovered': '1.86', 'Confirmed last week': '3250.0', '1 week change': '47.0', '1 week % increase': '1.45', 'WHO Region': 'South-East Asia'}\n",
      "{'Country/Region': 'Timor-Leste', 'Confirmed': '24', 'Deaths': '0.0', 'Recovered': '0.0', 'Active': '24.0', 'New cases': '0.0', 'New deaths': '0.0', 'New recovered': '0.0', 'Deaths / 100 Cases': '0.0', 'Recovered / 100 Cases': '0.0', 'Deaths / 100 Recovered': '0.0', 'Confirmed last week': '24.0', '1 week change': '0.0', '1 week % increase': '0.0', 'WHO Region': 'South-East Asia'}\n",
      "{'Country/Region': 'Togo', 'Confirmed': '874', 'Deaths': '18.0', 'Recovered': '607.0', 'Active': '249.0', 'New cases': '6.0', 'New deaths': '0.0', 'New recovered': '8.0', 'Deaths / 100 Cases': '2.06', 'Recovered / 100 Cases': '69.45', 'Deaths / 100 Recovered': '2.97', 'Confirmed last week': '783.0', '1 week change': '91.0', '1 week % increase': '11.62', 'WHO Region': 'Africa'}\n",
      "{'Country/Region': 'Trinidad and Tobago', 'Confirmed': '148', 'Deaths': '8.0', 'Recovered': '128.0', 'Active': '12.0', 'New cases': '1.0', 'New deaths': '0.0', 'New recovered': '0.0', 'Deaths / 100 Cases': '5.41', 'Recovered / 100 Cases': '86.49', 'Deaths / 100 Recovered': '6.25', 'Confirmed last week': '137.0', '1 week change': '11.0', '1 week % increase': '8.03', 'WHO Region': 'Americas'}\n",
      "{'Country/Region': 'Tunisia', 'Confirmed': '1455', 'Deaths': '50.0', 'Recovered': '1157.0', 'Active': '248.0', 'New cases': '3.0', 'New deaths': '0.0', 'New recovered': '15.0', 'Deaths / 100 Cases': '3.44', 'Recovered / 100 Cases': '79.52', 'Deaths / 100 Recovered': '4.32', 'Confirmed last week': '1381.0', '1 week change': '74.0', '1 week % increase': '5.36', 'WHO Region': 'Eastern Mediterranean'}\n",
      "{'Country/Region': 'Turkey', 'Confirmed': '227019', 'Deaths': '5630.0', 'Recovered': '210469.0', 'Active': '10920.0', 'New cases': '919.0', 'New deaths': '17.0', 'New recovered': '982.0', 'Deaths / 100 Cases': '2.48', 'Recovered / 100 Cases': '92.71', 'Deaths / 100 Recovered': '2.67', 'Confirmed last week': '220572.0', '1 week change': '6447.0', '1 week % increase': '2.92', 'WHO Region': 'Europe'}\n",
      "{'Country/Region': 'US', 'Confirmed': '4290259', 'Deaths': '148011.0', 'Recovered': '1325804.0', 'Active': '2816444.0', 'New cases': '56336.0', 'New deaths': '1076.0', 'New recovered': '27941.0', 'Deaths / 100 Cases': '3.45', 'Recovered / 100 Cases': '30.9', 'Deaths / 100 Recovered': '11.16', 'Confirmed last week': '3834677.0', '1 week change': '455582.0', '1 week % increase': '11.88', 'WHO Region': 'Americas'}\n",
      "{'Country/Region': 'Uganda', 'Confirmed': '1128', 'Deaths': '2.0', 'Recovered': '986.0', 'Active': '140.0', 'New cases': '13.0', 'New deaths': '0.0', 'New recovered': '4.0', 'Deaths / 100 Cases': '0.18', 'Recovered / 100 Cases': '87.41', 'Deaths / 100 Recovered': '0.2', 'Confirmed last week': '1069.0', '1 week change': '59.0', '1 week % increase': '5.52', 'WHO Region': 'Africa'}\n",
      "{'Country/Region': 'Ukraine', 'Confirmed': '67096', 'Deaths': '1636.0', 'Recovered': '37202.0', 'Active': '28258.0', 'New cases': '835.0', 'New deaths': '11.0', 'New recovered': '317.0', 'Deaths / 100 Cases': '2.44', 'Recovered / 100 Cases': '55.45', 'Deaths / 100 Recovered': '4.4', 'Confirmed last week': '60767.0', '1 week change': '6329.0', '1 week % increase': '10.42', 'WHO Region': 'Europe'}\n",
      "{'Country/Region': 'United Arab Emirates', 'Confirmed': '59177', 'Deaths': '345.0', 'Recovered': '52510.0', 'Active': '6322.0', 'New cases': '264.0', 'New deaths': '1.0', 'New recovered': '328.0', 'Deaths / 100 Cases': '0.58', 'Recovered / 100 Cases': '88.73', 'Deaths / 100 Recovered': '0.66', 'Confirmed last week': '57193.0', '1 week change': '1984.0', '1 week % increase': '3.47', 'WHO Region': 'Eastern Mediterranean'}\n",
      "{'Country/Region': 'United Kingdom', 'Confirmed': '301708', 'Deaths': '45844.0', 'Recovered': '1437.0', 'Active': '254427.0', 'New cases': '688.0', 'New deaths': '7.0', 'New recovered': '3.0', 'Deaths / 100 Cases': '15.19', 'Recovered / 100 Cases': '0.48', 'Deaths / 100 Recovered': '3190.26', 'Confirmed last week': '296944.0', '1 week change': '4764.0', '1 week % increase': '1.6', 'WHO Region': 'Europe'}\n",
      "{'Country/Region': 'Uruguay', 'Confirmed': '1202', 'Deaths': '35.0', 'Recovered': '951.0', 'Active': '216.0', 'New cases': '10.0', 'New deaths': '1.0', 'New recovered': '3.0', 'Deaths / 100 Cases': '2.91', 'Recovered / 100 Cases': '79.12', 'Deaths / 100 Recovered': '3.68', 'Confirmed last week': '1064.0', '1 week change': '138.0', '1 week % increase': '12.97', 'WHO Region': 'Americas'}\n",
      "{'Country/Region': 'Uzbekistan', 'Confirmed': '21209', 'Deaths': '121.0', 'Recovered': '11674.0', 'Active': '9414.0', 'New cases': '678.0', 'New deaths': '5.0', 'New recovered': '569.0', 'Deaths / 100 Cases': '0.57', 'Recovered / 100 Cases': '55.04', 'Deaths / 100 Recovered': '1.04', 'Confirmed last week': '17149.0', '1 week change': '4060.0', '1 week % increase': '23.67', 'WHO Region': 'Europe'}\n",
      "{'Country/Region': 'Venezuela', 'Confirmed': '15988', 'Deaths': '146.0', 'Recovered': '9959.0', 'Active': '5883.0', 'New cases': '525.0', 'New deaths': '4.0', 'New recovered': '213.0', 'Deaths / 100 Cases': '0.91', 'Recovered / 100 Cases': '62.29', 'Deaths / 100 Recovered': '1.47', 'Confirmed last week': '12334.0', '1 week change': '3654.0', '1 week % increase': '29.63', 'WHO Region': 'Americas'}\n",
      "{'Country/Region': 'Vietnam', 'Confirmed': '431', 'Deaths': '0.0', 'Recovered': '365.0', 'Active': '66.0', 'New cases': '11.0', 'New deaths': '0.0', 'New recovered': '0.0', 'Deaths / 100 Cases': '0.0', 'Recovered / 100 Cases': '84.69', 'Deaths / 100 Recovered': '0.0', 'Confirmed last week': '384.0', '1 week change': '47.0', '1 week % increase': '12.24', 'WHO Region': 'Western Pacific'}\n",
      "{'Country/Region': 'West Bank and Gaza', 'Confirmed': '10621', 'Deaths': '78.0', 'Recovered': '3752.0', 'Active': '6791.0', 'New cases': '152.0', 'New deaths': '2.0', 'New recovered': '0.0', 'Deaths / 100 Cases': '0.73', 'Recovered / 100 Cases': '35.33', 'Deaths / 100 Recovered': '2.08', 'Confirmed last week': '8916.0', '1 week change': '1705.0', '1 week % increase': '19.12', 'WHO Region': 'Eastern Mediterranean'}\n",
      "{'Country/Region': 'Western Sahara', 'Confirmed': '10', 'Deaths': '1.0', 'Recovered': '8.0', 'Active': '1.0', 'New cases': '0.0', 'New deaths': '0.0', 'New recovered': '0.0', 'Deaths / 100 Cases': '10.0', 'Recovered / 100 Cases': '80.0', 'Deaths / 100 Recovered': '12.5', 'Confirmed last week': '10.0', '1 week change': '0.0', '1 week % increase': '0.0', 'WHO Region': 'Africa'}\n",
      "{'Country/Region': 'Yemen', 'Confirmed': '1691', 'Deaths': '483.0', 'Recovered': '833.0', 'Active': '375.0', 'New cases': '10.0', 'New deaths': '4.0', 'New recovered': '36.0', 'Deaths / 100 Cases': '28.56', 'Recovered / 100 Cases': '49.26', 'Deaths / 100 Recovered': '57.98', 'Confirmed last week': '1619.0', '1 week change': '72.0', '1 week % increase': '4.45', 'WHO Region': 'Eastern Mediterranean'}\n",
      "{'Country/Region': 'Zambia', 'Confirmed': '4552', 'Deaths': '140.0', 'Recovered': '2815.0', 'Active': '1597.0', 'New cases': '71.0', 'New deaths': '1.0', 'New recovered': '465.0', 'Deaths / 100 Cases': '3.08', 'Recovered / 100 Cases': '61.84', 'Deaths / 100 Recovered': '4.97', 'Confirmed last week': '3326.0', '1 week change': '1226.0', '1 week % increase': '36.86', 'WHO Region': 'Africa'}\n",
      "{'Country/Region': 'Zimbabwe', 'Confirmed': '2704', 'Deaths': '36.0', 'Recovered': '542.0', 'Active': '2126.0', 'New cases': '192.0', 'New deaths': '2.0', 'New recovered': '24.0', 'Deaths / 100 Cases': '1.33', 'Recovered / 100 Cases': '20.04', 'Deaths / 100 Recovered': '6.64', 'Confirmed last week': '1713.0', '1 week change': '991.0', '1 week % increase': '57.85', 'WHO Region': 'Africa'}\n"
     ]
    }
   ],
   "source": [
    "#Accept a CSV file and convert it into a list of dictionaries\n",
    "import csv\n",
    "\n",
    "filename = input(\"Enter CSV file name (with .csv extension): \")\n",
    "\n",
    "with open(filename, mode='r') as file:\n",
    "    reader = csv.DictReader(file)\n",
    "    data = [row for row in reader]\n",
    "\n",
    "print(\"List of dictionaries:\")\n",
    "for row in data:\n",
    "    print(row)\n"
   ]
  },
  {
   "cell_type": "code",
   "execution_count": 24,
   "id": "4d6887d5-39e2-46b3-8113-f576809bf7db",
   "metadata": {},
   "outputs": [
    {
     "name": "stdin",
     "output_type": "stream",
     "text": [
      "Username:  a\n",
      "Password:  1\n"
     ]
    },
    {
     "name": "stdout",
     "output_type": "stream",
     "text": [
      "Login successful!\n"
     ]
    }
   ],
   "source": [
    "#Create a simple login system using dictionary and input.\n",
    "users = {\"a\": \"1\", \"b\": \"2\", \"c\": \"3\"}\n",
    "\n",
    "login = lambda u, p: \"Login successful!\" if users.get(u) == p else \"Invalid credentials\"\n",
    "\n",
    "print(login(input(\"Username: \"), input(\"Password: \")))\n"
   ]
  },
  {
   "cell_type": "code",
   "execution_count": 27,
   "id": "31418d54-aed0-427f-875e-7a62d173bd08",
   "metadata": {},
   "outputs": [
    {
     "name": "stdout",
     "output_type": "stream",
     "text": [
      "Flattened list: [1, 1, 4, 4, 6, 6, 8, 8]\n"
     ]
    }
   ],
   "source": [
    "#flatten with recursion\n",
    "def flatten(lst):\n",
    "    result = []\n",
    "    for item in lst:\n",
    "        if isinstance(item, list):\n",
    "            result.extend(flatten(item))\n",
    "        else:\n",
    "            result.append(item)\n",
    "    return result\n",
    "nested = [1, [1, [4, 4], 6], 6, [8, 8]]\n",
    "flat = flatten(nested)\n",
    "print(\"Flattened list:\", flat)\n"
   ]
  },
  {
   "cell_type": "code",
   "execution_count": 29,
   "id": "74744a7b-748c-4adb-8b73-ed0e398986e0",
   "metadata": {},
   "outputs": [
    {
     "name": "stdout",
     "output_type": "stream",
     "text": [
      "Original list:  [1, 2, 3, 4, 5, 6]\n",
      "Squares (map):  [1, 4, 9, 16, 25, 36]\n",
      "Even numbers (filter):  [2, 4, 6]\n",
      "Product (reduce):  720\n"
     ]
    }
   ],
   "source": [
    "#Demonstrate use of map(), filter(), and reduce() on a list\n",
    "from functools import reduce\n",
    "\n",
    "nums = [1, 2, 3, 4, 5, 6]\n",
    "\n",
    "# map(): Square each number\n",
    "squares = list(map(lambda x: x**2, nums))\n",
    "\n",
    "# filter(): Keep only even numbers\n",
    "evens = list(filter(lambda x: x % 2 == 0, nums))\n",
    "\n",
    "# reduce(): Multiply all numbers\n",
    "product = reduce(lambda x, y: x * y, nums)\n",
    "\n",
    "print(\"Original list: \", nums)\n",
    "print(\"Squares (map): \", squares)\n",
    "print(\"Even numbers (filter): \", evens)\n",
    "print(\"Product (reduce): \", product)\n"
   ]
  },
  {
   "cell_type": "code",
   "execution_count": 32,
   "id": "69f72c7b-c635-4d69-a4ca-d970df86ba64",
   "metadata": {},
   "outputs": [
    {
     "name": "stdout",
     "output_type": "stream",
     "text": [
      "\n",
      "1.Add 2.Subtract 3.Multiply 4.Divide 5.Exit\n"
     ]
    },
    {
     "name": "stdin",
     "output_type": "stream",
     "text": [
      "Choice:  1\n",
      "Enter number:  1\n",
      "Enter number:  2\n"
     ]
    },
    {
     "name": "stdout",
     "output_type": "stream",
     "text": [
      "3.0\n",
      "\n",
      "1.Add 2.Subtract 3.Multiply 4.Divide 5.Exit\n"
     ]
    },
    {
     "name": "stdin",
     "output_type": "stream",
     "text": [
      "Choice:  2\n",
      "Enter number:  2\n",
      "Enter number:  2\n"
     ]
    },
    {
     "name": "stdout",
     "output_type": "stream",
     "text": [
      "0.0\n",
      "\n",
      "1.Add 2.Subtract 3.Multiply 4.Divide 5.Exit\n"
     ]
    },
    {
     "name": "stdin",
     "output_type": "stream",
     "text": [
      "Choice:  3\n",
      "Enter number:  3\n",
      "Enter number:  s\n"
     ]
    },
    {
     "name": "stdout",
     "output_type": "stream",
     "text": [
      "Invalid input.\n",
      "\n",
      "1.Add 2.Subtract 3.Multiply 4.Divide 5.Exit\n"
     ]
    },
    {
     "name": "stdin",
     "output_type": "stream",
     "text": [
      "Choice:  45\n",
      "Enter number:  45\n",
      "Enter number:  45\n"
     ]
    },
    {
     "name": "stdout",
     "output_type": "stream",
     "text": [
      "Invalid choice.\n",
      "\n",
      "1.Add 2.Subtract 3.Multiply 4.Divide 5.Exit\n"
     ]
    },
    {
     "name": "stdin",
     "output_type": "stream",
     "text": [
      "Choice:  4\n",
      "Enter number:  45\n",
      "Enter number:  4\n"
     ]
    },
    {
     "name": "stdout",
     "output_type": "stream",
     "text": [
      "11.25\n",
      "\n",
      "1.Add 2.Subtract 3.Multiply 4.Divide 5.Exit\n"
     ]
    },
    {
     "name": "stdin",
     "output_type": "stream",
     "text": [
      "Choice:  5\n"
     ]
    },
    {
     "name": "stdout",
     "output_type": "stream",
     "text": [
      "Exiting...\n"
     ]
    }
   ],
   "source": [
    "#Build a small CLI app that takes user input and performs basic operations.\n",
    "class Calculator:\n",
    "    def add(self, x, y): return x + y\n",
    "    def sub(self, x, y): return x - y\n",
    "    def mul(self, x, y): return x * y\n",
    "    def div(self, x, y): return x / y if y != 0 else \"Can't divide by zero\"\n",
    "\n",
    "calc = Calculator()\n",
    "\n",
    "while True:\n",
    "    print(\"\\n1.Add 2.Subtract 3.Multiply 4.Divide 5.Exit\")\n",
    "    ch = input(\"Choice: \")\n",
    "    if ch == '5':\n",
    "        print(\"Exiting...\")\n",
    "        break\n",
    "    try:\n",
    "        x = float(input(\"Enter number: \"))\n",
    "        y = float(input(\"Enter number: \"))\n",
    "        if ch == '1': print(calc.add(x, y))\n",
    "        elif ch == '2': print(calc.sub(x, y))\n",
    "        elif ch == '3': print(calc.mul(x, y))\n",
    "        elif ch == '4': print(calc.div(x, y))\n",
    "        else: print(\"Invalid choice.\")\n",
    "    except:\n",
    "        print(\"Invalid input.\")\n"
   ]
  },
  {
   "cell_type": "code",
   "execution_count": 33,
   "id": "6decd4a9-8217-476b-bded-831eceb9d49d",
   "metadata": {},
   "outputs": [
    {
     "name": "stdin",
     "output_type": "stream",
     "text": [
      "Q1: Python is a compiled language. (True/False):  False\n"
     ]
    },
    {
     "name": "stdout",
     "output_type": "stream",
     "text": [
      "✅ Correct!\n",
      "\n"
     ]
    },
    {
     "name": "stdin",
     "output_type": "stream",
     "text": [
      "Q2: Lists are mutable in Python. (True/False):  True\n"
     ]
    },
    {
     "name": "stdout",
     "output_type": "stream",
     "text": [
      "✅ Correct!\n",
      "\n"
     ]
    },
    {
     "name": "stdin",
     "output_type": "stream",
     "text": [
      "Q3: The keyword 'class' is used to define functions. (True/False):  False\n"
     ]
    },
    {
     "name": "stdout",
     "output_type": "stream",
     "text": [
      "✅ Correct!\n",
      "\n",
      "Your score: 3/3\n"
     ]
    }
   ],
   "source": [
    "#Create a mini Python quiz that takes answers from the user and displays score.\n",
    "questions = [\n",
    "    {\"q\": \"Python is a compiled language.\", \"a\": \"False\"},\n",
    "    {\"q\": \"Lists are mutable in Python.\", \"a\": \"True\"},\n",
    "    {\"q\": \"The keyword 'class' is used to define functions.\", \"a\": \"False\"}\n",
    "]\n",
    "\n",
    "score = 0\n",
    "for i, item in enumerate(questions, 1):\n",
    "    ans = input(f\"Q{i}: {item['q']} (True/False): \").strip().title()\n",
    "    if ans == item[\"a\"]:\n",
    "        print(\"✅ Correct!\\n\")\n",
    "        score += 1\n",
    "    else:\n",
    "        print(f\"❌ Wrong! Correct answer: {item['a']}\\n\")\n",
    "print(f\"Your score: {score}/{len(questions)}\")\n"
   ]
  },
  {
   "cell_type": "code",
   "execution_count": null,
   "id": "14948578-fe20-4a7f-8636-f70682d77436",
   "metadata": {},
   "outputs": [],
   "source": []
  }
 ],
 "metadata": {
  "kernelspec": {
   "display_name": "Python 3 (ipykernel)",
   "language": "python",
   "name": "python3"
  },
  "language_info": {
   "codemirror_mode": {
    "name": "ipython",
    "version": 3
   },
   "file_extension": ".py",
   "mimetype": "text/x-python",
   "name": "python",
   "nbconvert_exporter": "python",
   "pygments_lexer": "ipython3",
   "version": "3.12.6"
  }
 },
 "nbformat": 4,
 "nbformat_minor": 5
}
