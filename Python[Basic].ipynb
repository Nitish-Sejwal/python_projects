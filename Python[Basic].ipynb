{
 "cells": [
  {
   "cell_type": "code",
   "execution_count": 6,
   "id": "bd365731-d14e-4162-83f5-9a983966bb8c",
   "metadata": {},
   "outputs": [
    {
     "name": "stdin",
     "output_type": "stream",
     "text": [
      "Enter first number :  1\n",
      "Enter second number :  2\n",
      "Enter third number :  3\n"
     ]
    },
    {
     "name": "stdout",
     "output_type": "stream",
     "text": [
      "3 is the largest number of the three (1,2,3)\n"
     ]
    }
   ],
   "source": [
    "#Find the largest out of the three\n",
    "a=int(input(\"Enter first number : \"))\n",
    "b=int(input(\"Enter second number : \"))\n",
    "c=int(input(\"Enter third number : \"))\n",
    "if a>b and a>c:\n",
    "    print(f\"{a} is the largest number of the three ({a},{b},{c})\")\n",
    "elif b>a and b>c:\n",
    "    print(f\"{b} is the largest number of the three ({a},{b},{c})\")\n",
    "else:\n",
    "    print(f\"{c} is the largest number of the three ({a},{b},{c})\")"
   ]
  },
  {
   "cell_type": "code",
   "execution_count": 11,
   "id": "13b40a64-3e59-4972-8c0e-73a0640a7a47",
   "metadata": {},
   "outputs": [
    {
     "name": "stdin",
     "output_type": "stream",
     "text": [
      "Enter a number :  34354354\n"
     ]
    },
    {
     "name": "stdout",
     "output_type": "stream",
     "text": [
      "Even\n"
     ]
    }
   ],
   "source": [
    "#Check odd and even\n",
    "n=int(input(\"Enter a number : \"))\n",
    "if n % 2 == 0:\n",
    "    print(\"Even\")\n",
    "else:\n",
    "    print(\"Odd\")"
   ]
  },
  {
   "cell_type": "code",
   "execution_count": 14,
   "id": "3552629d-9639-41b4-924b-46ce9a9251b4",
   "metadata": {},
   "outputs": [
    {
     "name": "stdin",
     "output_type": "stream",
     "text": [
      "Enter a word :  heeeeeheee\n"
     ]
    },
    {
     "name": "stdout",
     "output_type": "stream",
     "text": [
      "eeeheeeeeh\n"
     ]
    }
   ],
   "source": [
    "#Reverse a string \n",
    "s=input(\"Enter a word : \")\n",
    "print(s[::-1])"
   ]
  },
  {
   "cell_type": "code",
   "execution_count": 16,
   "id": "a4f8a8c1-0a94-48fe-b4df-b6192af5810c",
   "metadata": {},
   "outputs": [
    {
     "name": "stdin",
     "output_type": "stream",
     "text": [
      "Enter a string:  heeloi\n"
     ]
    },
    {
     "name": "stdout",
     "output_type": "stream",
     "text": [
      "The number of vowels in 'heeloi' are 4\n"
     ]
    }
   ],
   "source": [
    "#Count vowels in a string\n",
    "def voweler(string):\n",
    "    count = 0\n",
    "    vowels = \"aeiouAEIOU\"\n",
    "    for char in string:\n",
    "        if char in vowels:\n",
    "            count += 1\n",
    "    return count\n",
    "\n",
    "str_input = input(\"Enter a string: \")\n",
    "print(f\"The number of vowels in '{str_input}' are {voweler(str_input)}\")\n"
   ]
  },
  {
   "cell_type": "code",
   "execution_count": 21,
   "id": "e68686b5-ab28-4ef5-a8bb-b796434edefd",
   "metadata": {},
   "outputs": [
    {
     "name": "stdout",
     "output_type": "stream",
     "text": [
      "\n",
      "--- Simple Calculator ---\n",
      "Choose operation: \n",
      "add\n",
      "subtract\n",
      "multiply\n",
      "divide\n",
      "Type 'exit' to quit\n"
     ]
    },
    {
     "name": "stdin",
     "output_type": "stream",
     "text": [
      "Enter operation:  exit\n"
     ]
    },
    {
     "name": "stdout",
     "output_type": "stream",
     "text": [
      "Calculator exited.\n"
     ]
    }
   ],
   "source": [
    "#if-else calculator \n",
    "def calc(a,b,op):\n",
    "    if (op=='add'):\n",
    "        return a+b\n",
    "    elif (op=='subtract'):\n",
    "        return a-b\n",
    "    elif (op=='multiply'):\n",
    "        return a*b\n",
    "    elif (op=='divide'):\n",
    "        if b != 0:\n",
    "            return a / b\n",
    "        else:\n",
    "            return \"Error: Division by zero\"\n",
    "    else:\n",
    "        return \"Invalid operation\"\n",
    "while True:\n",
    "    print(\"\\n--- Simple Calculator ---\")\n",
    "    print(\"Choose operation: \")\n",
    "    print(\"add\")\n",
    "    print(\"subtract\")\n",
    "    print(\"multiply\")\n",
    "    print(\"divide\")\n",
    "    print(\"Type 'exit' to quit\")\n",
    "\n",
    "    op = input(\"Enter operation: \").lower()\n",
    "    \n",
    "    if op == 'exit':\n",
    "        print(\"Calculator exited.\")\n",
    "        break\n",
    "\n",
    "    num1 = float(input(\"Enter first number: \"))\n",
    "    num2 = float(input(\"Enter second number: \"))\n",
    "    r = calc(num1, num2, op)\n",
    "    print(\"Result: \", r)\n",
    "        "
   ]
  },
  {
   "cell_type": "code",
   "execution_count": 22,
   "id": "937bf353-ab8c-4d83-ad8f-300b6fd1b887",
   "metadata": {},
   "outputs": [
    {
     "name": "stdin",
     "output_type": "stream",
     "text": [
      "Enter a number :  455\n"
     ]
    },
    {
     "name": "stdout",
     "output_type": "stream",
     "text": [
      "455 is not a prime number.\n"
     ]
    }
   ],
   "source": [
    "#check if a number is prime\n",
    "def chkr(n):\n",
    "    if (n<=1):\n",
    "        return False\n",
    "    for i in range(2,n):\n",
    "        if (n % i == 0):\n",
    "            return False\n",
    "    return True\n",
    "\n",
    "n = int(input(\"Enter a number : \"))\n",
    "if chkr(n):\n",
    "    print(f\"{n} is a prime number.\")\n",
    "else:\n",
    "    print(f\"{n} is not a prime number.\")"
   ]
  },
  {
   "cell_type": "code",
   "execution_count": 27,
   "id": "6bb8ee21-3e4a-4927-bc96-9964f05ae63b",
   "metadata": {},
   "outputs": [
    {
     "name": "stdin",
     "output_type": "stream",
     "text": [
      "Enter a number : 2\n",
      "Enter the range :  10\n"
     ]
    },
    {
     "name": "stdout",
     "output_type": "stream",
     "text": [
      "2 x 0 =  0\n",
      "2 x 1 =  2\n",
      "2 x 2 =  4\n",
      "2 x 3 =  6\n",
      "2 x 4 =  8\n",
      "2 x 5 =  10\n",
      "2 x 6 =  12\n",
      "2 x 7 =  14\n",
      "2 x 8 =  16\n",
      "2 x 9 =  18\n",
      "2 x 10 =  20\n"
     ]
    }
   ],
   "source": [
    "#multiplication table \n",
    "def tablr(n,r):\n",
    "    for i in range(r+1):\n",
    "        print(f\"{n} x {i} = \",n*i)\n",
    "n=int(input(\"Enter a number :\"))\n",
    "r=int(input(\"Enter the range : \"))\n",
    "tablr(n,r)"
   ]
  },
  {
   "cell_type": "code",
   "execution_count": 28,
   "id": "53586753-a6b0-4176-995a-0fc1631a03eb",
   "metadata": {},
   "outputs": [
    {
     "name": "stdin",
     "output_type": "stream",
     "text": [
      "Enter a number :  12\n"
     ]
    },
    {
     "name": "stdout",
     "output_type": "stream",
     "text": [
      "Fibonnaci series : [0, 1, 1, 2, 3, 5, 8, 13, 21, 34, 55, 89]\n"
     ]
    }
   ],
   "source": [
    "#Generate fibonacci series\n",
    "def fib(n):\n",
    "    a,b = 0,1\n",
    "    fib=[]\n",
    "    for i in range(n):\n",
    "        fib.append(a)\n",
    "        a, b = b, a + b\n",
    "    return fib\n",
    "\n",
    "n= int(input(\"Enter a number : \"))\n",
    "if n <= 0 :\n",
    "    print(\"Enter a positive integar \")\n",
    "else:\n",
    "    print(f\"Fibonnaci series : {fib(n)}\") "
   ]
  },
  {
   "cell_type": "code",
   "execution_count": 38,
   "id": "f2ad08cf-da3c-4f8e-94c8-bf68318c4d58",
   "metadata": {},
   "outputs": [
    {
     "name": "stdin",
     "output_type": "stream",
     "text": [
      "Enter a number :  5\n"
     ]
    },
    {
     "name": "stdout",
     "output_type": "stream",
     "text": [
      "The factorial of 5 is 120\n"
     ]
    }
   ],
   "source": [
    "#factorial using loops\n",
    "def factrl(n):\n",
    "    f = 1\n",
    "    for i in range(1,n+1):\n",
    "        f *= i\n",
    "    return f\n",
    "n = int(input(\"Enter a number : \"))\n",
    "print(f\"The factorial of {n} is {factrl(n)}\")"
   ]
  },
  {
   "cell_type": "code",
   "execution_count": 51,
   "id": "95753c7f-7243-4401-a9e9-4526b104a17f",
   "metadata": {},
   "outputs": [
    {
     "name": "stdin",
     "output_type": "stream",
     "text": [
      "Enter a number :  121\n"
     ]
    },
    {
     "name": "stdout",
     "output_type": "stream",
     "text": [
      "Yes, its a palindorme\n"
     ]
    }
   ],
   "source": [
    "#check palindrome \n",
    "def rev(n):\n",
    "    rev = 0\n",
    "    while n > 0:\n",
    "        digit = n % 10\n",
    "        rev = rev * 10 + digit\n",
    "        n //= 10\n",
    "    return rev\n",
    "    \n",
    "n = int(input(\"Enter a number : \"))\n",
    "rev =rev(n)\n",
    "if(rev==n):\n",
    "    print(\"Yes, its a palindorme\")\n",
    "else:\n",
    "    print(\"No, its not a palindorme\")"
   ]
  },
  {
   "cell_type": "code",
   "execution_count": 56,
   "id": "5570ff41-4675-4cdd-9874-afd29512796f",
   "metadata": {},
   "outputs": [
    {
     "name": "stdin",
     "output_type": "stream",
     "text": [
      "Enter a number :  1111\n"
     ]
    },
    {
     "name": "stdout",
     "output_type": "stream",
     "text": [
      "The factorial of 1111 is 4\n"
     ]
    }
   ],
   "source": [
    "#sum of digits\n",
    "def ss(n):\n",
    "    f = 0\n",
    "    while n > 0:\n",
    "        digit = n % 10\n",
    "        f += digit\n",
    "        n //= 10\n",
    "    return f\n",
    "n = int(input(\"Enter a number : \"))\n",
    "print(f\"The factorial of {n} is {ss(n)}\")"
   ]
  },
  {
   "cell_type": "code",
   "execution_count": 57,
   "id": "3f6b7c6a-0a17-4342-af57-3b2726bd6d0b",
   "metadata": {},
   "outputs": [
    {
     "name": "stdin",
     "output_type": "stream",
     "text": [
      "Enter temperature in Celsius:  100\n"
     ]
    },
    {
     "name": "stdout",
     "output_type": "stream",
     "text": [
      "100.0°C is equal to 212.00°F\n"
     ]
    }
   ],
   "source": [
    "#Celsius to Fahrenheit\n",
    "def ctf(celsius):\n",
    "    fahrenheit = (celsius * 9/5) + 32\n",
    "    return fahrenheit\n",
    "    \n",
    "c = float(input(\"Enter temperature in Celsius: \"))\n",
    "f = ctf(c)\n",
    "print(f\"{c}°C is equal to {f:.2f}°F\")\n"
   ]
  },
  {
   "cell_type": "code",
   "execution_count": 58,
   "id": "e3cd64ac-20be-4395-ab08-2a16f6058676",
   "metadata": {},
   "outputs": [
    {
     "name": "stdin",
     "output_type": "stream",
     "text": [
      "Enter first number:  12\n",
      "Enter second number:  22\n"
     ]
    },
    {
     "name": "stdout",
     "output_type": "stream",
     "text": [
      "The maximum number is: 22.0\n"
     ]
    }
   ],
   "source": [
    "#maximum out of two\n",
    "def max_of_two(a, b):\n",
    "    if a > b:\n",
    "        return a\n",
    "    else:\n",
    "        return b\n",
    "x = float(input(\"Enter first number: \"))\n",
    "y = float(input(\"Enter second number: \"))\n",
    "\n",
    "print(\"The maximum number is:\", max_of_two(x, y))\n"
   ]
  },
  {
   "cell_type": "code",
   "execution_count": 72,
   "id": "9a7dd344-1890-4d9d-80f5-14639d077d46",
   "metadata": {},
   "outputs": [
    {
     "name": "stdin",
     "output_type": "stream",
     "text": [
      "Do you want to add a number? (yes/no):  yesz\n",
      "Enter a number:  12\n",
      "Do you want to add a number? (yes/no):  yes\n",
      "Enter a number:  12\n",
      "Do you want to add a number? (yes/no):  yes\n",
      "Enter a number:  24\n",
      "Do you want to add a number? (yes/no):  yes\n",
      "Enter a number:  56\n",
      "Do you want to add a number? (yes/no):  yes\n",
      "Enter a number:  534\n",
      "Do you want to add a number? (yes/no):  we\n",
      "Enter a number:  3\n",
      "Do you want to add a number? (yes/no):  r\n",
      "Enter a number:  8\n",
      "Do you want to add a number? (yes/no):  no\n"
     ]
    },
    {
     "name": "stdout",
     "output_type": "stream",
     "text": [
      "The average of [12, 12, 24, 56, 534, 3, 8] is 92.71428571428571\n"
     ]
    }
   ],
   "source": [
    "#return the average of list\n",
    "lst = []\n",
    "while True:\n",
    "    c = input(\"Do you want to add a number? (yes/no): \").lower()\n",
    "    if c == 'no':\n",
    "        break\n",
    "    x = int(input(\"Enter a number: \"))\n",
    "    lst.append(x)\n",
    "\n",
    "if lst:\n",
    "    avg = sum(lst) / len(lst)\n",
    "    print(f\"The average of {lst} is {avg}\")\n",
    "else:\n",
    "    print(\"No numbers were entered.\")\n"
   ]
  },
  {
   "cell_type": "code",
   "execution_count": 81,
   "id": "fb360e38-efa0-4115-bc03-cac278e61c4b",
   "metadata": {},
   "outputs": [
    {
     "name": "stdin",
     "output_type": "stream",
     "text": [
      "Enter the range of the list 5\n",
      "Enter the number  1\n",
      "Enter the number  2\n",
      "Enter the number  3\n",
      "Enter the number  4\n",
      "Enter the number  5\n"
     ]
    },
    {
     "name": "stdout",
     "output_type": "stream",
     "text": [
      "The second largest number in the list is : 4\n"
     ]
    }
   ],
   "source": [
    "#find second largest number in a list \n",
    "lst=[]\n",
    "n = int(input(\"Enter the range of the list\"))\n",
    "for i in range(n):\n",
    "    x=int(input(\"Enter the number \"))\n",
    "    lst.append(x)\n",
    "lst.sort()\n",
    "sl=lst[-2]\n",
    "print(f\"The second largest number in the list is : {sl}\")"
   ]
  },
  {
   "cell_type": "code",
   "execution_count": 82,
   "id": "eda02851-0da9-4e98-bee3-25da902f1675",
   "metadata": {},
   "outputs": [
    {
     "name": "stdin",
     "output_type": "stream",
     "text": [
      "Enter a sentence :  I love you\n"
     ]
    },
    {
     "name": "stdout",
     "output_type": "stream",
     "text": [
      "Number of words in the given sentence is 3\n"
     ]
    }
   ],
   "source": [
    "#count the number of words\n",
    "def wrdzz(s):\n",
    "    count=1\n",
    "    spc=\" \"\n",
    "    for i in s:\n",
    "        if i in spc:\n",
    "            count+=1\n",
    "    return (count) \n",
    "s=input(\"Enter a sentence : \")\n",
    "print(f\"Number of words in the given sentence is {wrdzz(s)}\")"
   ]
  },
  {
   "cell_type": "code",
   "execution_count": 91,
   "id": "7260447f-3d19-46c1-9dcb-af42e7342f4a",
   "metadata": {},
   "outputs": [
    {
     "name": "stdin",
     "output_type": "stream",
     "text": [
      "Enter the range of the list 5\n",
      "Enter the number  1\n",
      "Enter the number  2\n",
      "Enter the number  32\n",
      "Enter the number  1\n",
      "Enter the number  33\n"
     ]
    },
    {
     "data": {
      "text/plain": [
       "[1, 2, 32, 33]"
      ]
     },
     "execution_count": 91,
     "metadata": {},
     "output_type": "execute_result"
    }
   ],
   "source": [
    "#remove duplicates in a list\n",
    "def shredder(lst):\n",
    "    new=[]\n",
    "    for i in lst:\n",
    "        if i not in new:\n",
    "            new.append(i)       \n",
    "    return new\n",
    "lst=[]\n",
    "n = int(input(\"Enter the range of the list\"))\n",
    "for i in range(n):\n",
    "    x=int(input(\"Enter the number \"))\n",
    "    lst.append(x)\n",
    "shredder(lst)\n"
   ]
  },
  {
   "cell_type": "code",
   "execution_count": 6,
   "id": "38688eff-ec50-4f5b-ba06-57bfa74535fb",
   "metadata": {},
   "outputs": [
    {
     "name": "stdin",
     "output_type": "stream",
     "text": [
      "Enter the range of the lists 3\n",
      "Enter the elements for list 1 1\n",
      "Enter the elements for list 1 2\n",
      "Enter the elements for list 1 3\n",
      "Enter the elements for list 2 a\n",
      "Enter the elements for list 2 b\n",
      "Enter the elements for list 2 c\n"
     ]
    },
    {
     "name": "stdout",
     "output_type": "stream",
     "text": [
      "['1', '2', '3']\n",
      "['a', 'b', 'c']\n",
      "Dictionary created from list 1 and list 2 is {'1': 'a', '2': 'b', '3': 'c'}\n"
     ]
    }
   ],
   "source": [
    "#dictionary from two lists\n",
    "lst1=[]\n",
    "lst2=[]\n",
    "n = int(input(\"Enter the range of the lists\"))\n",
    "for i in range(n):\n",
    "    x=input(\"Enter the elements for list 1\")\n",
    "    lst1.append(x)\n",
    "for i in range(n):\n",
    "    x=input(\"Enter the elements for list 2\")\n",
    "    lst2.append(x)\n",
    "print(lst1)\n",
    "print(lst2)\n",
    "dic={}\n",
    "for i in range(n):\n",
    "    dic[lst1[i]]=lst2[i]\n",
    "print(f\"Dictionary created from list 1 and list 2 is {dic}\")"
   ]
  },
  {
   "cell_type": "code",
   "execution_count": 26,
   "id": "e23f3f32-00b5-4f55-b5ba-a38d31adda87",
   "metadata": {},
   "outputs": [
    {
     "name": "stdin",
     "output_type": "stream",
     "text": [
      "Enter the number of elements:  3\n",
      "Enter element 1:  1\n",
      "Enter element 2:  2\n",
      "Enter element 3:  3\n"
     ]
    },
    {
     "name": "stdout",
     "output_type": "stream",
     "text": [
      "Sorted list: ['1', '2', '3']\n"
     ]
    }
   ],
   "source": [
    "#sort a list without sort function\n",
    "def srt(lst):\n",
    "    l = len(lst)\n",
    "    for i in range(l):\n",
    "        for j in range(0, l - i - 1):\n",
    "            if lst[j] > lst[j + 1]:\n",
    "                lst[j], lst[j + 1] = lst[j + 1], lst[j]\n",
    "    return lst\n",
    "\n",
    "lst = []\n",
    "n = int(input(\"Enter the number of elements: \"))\n",
    "\n",
    "for i in range(n):\n",
    "    x = input(f\"Enter element {i+1}: \")\n",
    "    lst.append(x)\n",
    "\n",
    "srt(lst)\n",
    "print(\"Sorted list:\", lst)\n"
   ]
  },
  {
   "cell_type": "code",
   "execution_count": 11,
   "id": "1c9c7037-dbb5-4083-bd4a-715148bb85ff",
   "metadata": {},
   "outputs": [
    {
     "name": "stdin",
     "output_type": "stream",
     "text": [
      "Enter first string:  live \n",
      "Enter second string:  evil\n"
     ]
    },
    {
     "name": "stdout",
     "output_type": "stream",
     "text": [
      "The strings are anagrams.\n"
     ]
    }
   ],
   "source": [
    "#check anagrams \n",
    "def are_anagrams(str1, str2):\n",
    "    str1 = str1.replace(\" \", \"\").lower()\n",
    "    str2 = str2.replace(\" \", \"\").lower()\n",
    "    \n",
    "    return sorted(str1) == sorted(str2)\n",
    "\n",
    "s1 = input(\"Enter first string: \")\n",
    "s2 = input(\"Enter second string: \")\n",
    "\n",
    "if are_anagrams(s1, s2):\n",
    "    print(\"The strings are anagrams.\")\n",
    "else:\n",
    "    print(\"The strings are not anagrams.\")\n"
   ]
  },
  {
   "cell_type": "code",
   "execution_count": 27,
   "id": "00f0efc8-d1a0-46d5-9661-0e6a34e4e61d",
   "metadata": {},
   "outputs": [
    {
     "name": "stdin",
     "output_type": "stream",
     "text": [
      "Enter something:  fs\n"
     ]
    },
    {
     "name": "stdout",
     "output_type": "stream",
     "text": [
      "It's not a number.\n"
     ]
    }
   ],
   "source": [
    "#check if the input is a number or not\n",
    "def is_number(s):\n",
    "    return s.isdigit()\n",
    "\n",
    "s = input(\"Enter something: \")\n",
    "if is_number(s):\n",
    "    print(\"It's a number.\")\n",
    "else:\n",
    "    print(\"It's not a number.\")\n"
   ]
  },
  {
   "cell_type": "code",
   "execution_count": 28,
   "id": "ad0bc381-5d00-4046-8d9a-be62083acd73",
   "metadata": {},
   "outputs": [
    {
     "name": "stdin",
     "output_type": "stream",
     "text": [
      "Enter first string:  live\n",
      "Enter second string:  evil\n"
     ]
    },
    {
     "name": "stdout",
     "output_type": "stream",
     "text": [
      "The strings are anagrams.\n"
     ]
    }
   ],
   "source": [
    "#check anagrams of two user inputs\n",
    "def are_anagrams(str1, str2):\n",
    "    str1 = str1.replace(\" \", \"\").lower()\n",
    "    str2 = str2.replace(\" \", \"\").lower()\n",
    "    \n",
    "    return sorted(str1) == sorted(str2)\n",
    "\n",
    "s1 = input(\"Enter first string: \")\n",
    "s2 = input(\"Enter second string: \")\n",
    "\n",
    "if are_anagrams(s1, s2):\n",
    "    print(\"The strings are anagrams.\")\n",
    "else:\n",
    "    print(\"The strings are not anagrams.\")\n"
   ]
  },
  {
   "cell_type": "code",
   "execution_count": 29,
   "id": "0ae8b445-b4d7-4554-a254-4c5f0fc3a0b5",
   "metadata": {},
   "outputs": [
    {
     "name": "stdin",
     "output_type": "stream",
     "text": [
      "Enter a number:  12\n"
     ]
    },
    {
     "name": "stdout",
     "output_type": "stream",
     "text": [
      "Binary of 12 is: 0b1100\n",
      "Octal of 12 is: 0o14\n",
      "Hexadecimal of 12 is: 0xc\n"
     ]
    }
   ],
   "source": [
    "#print binary, octal, and hexadecimal\n",
    "num = int(input(\"Enter a number: \"))\n",
    "\n",
    "print(f\"Binary of {num} is: {bin(num)}\")\n",
    "print(f\"Octal of {num} is: {oct(num)}\")\n",
    "print(f\"Hexadecimal of {num} is: {hex(num)}\")\n"
   ]
  },
  {
   "cell_type": "code",
   "execution_count": 30,
   "id": "779c0e62-cb26-4b11-aa48-540b0ac89b6e",
   "metadata": {},
   "outputs": [
    {
     "name": "stdin",
     "output_type": "stream",
     "text": [
      "Enter the number of elements:  3\n",
      "Enter element 1:  23\n",
      "Enter element 2:  55\n",
      "Enter element 3:  4\n"
     ]
    },
    {
     "name": "stdout",
     "output_type": "stream",
     "text": [
      "Greater than 50 in list :  [55]\n"
     ]
    }
   ],
   "source": [
    "#print all elements greater than 50\n",
    "lst = []\n",
    "n = int(input(\"Enter the number of elements: \"))\n",
    "\n",
    "for i in range(n):\n",
    "    x =int(input(f\"Enter element {i+1}: \"))\n",
    "    lst.append(x)\n",
    "grtr=[]\n",
    "for i in lst:\n",
    "    if i>50:\n",
    "        grtr.append(i)\n",
    "print(\"Greater than 50 in list : \",grtr)"
   ]
  },
  {
   "cell_type": "code",
   "execution_count": 25,
   "id": "82d35eb7-c15b-42a0-9f91-93ef572d752e",
   "metadata": {},
   "outputs": [
    {
     "name": "stdin",
     "output_type": "stream",
     "text": [
      "Enter a sentence:  hello World\n"
     ]
    },
    {
     "name": "stdout",
     "output_type": "stream",
     "text": [
      "The number of uppercase letters is 1\n",
      "The number of lowercase letters is 9\n"
     ]
    }
   ],
   "source": [
    "# Count uppercase and lowercase letters in a string\n",
    "def cntr(s):\n",
    "    uppr = 0\n",
    "    lowr = 0\n",
    "    for char in s:\n",
    "        if char.isupper():\n",
    "            uppr += 1\n",
    "        elif char.islower():\n",
    "            lowr += 1\n",
    "    return uppr, lowr\n",
    "\n",
    "s = input(\"Enter a sentence: \")\n",
    "uppr, lowr = cntr(s)\n",
    "\n",
    "print(f\"The number of uppercase letters is {uppr}\")\n",
    "print(f\"The number of lowercase letters is {lowr}\")\n"
   ]
  }
 ],
 "metadata": {
  "kernelspec": {
   "display_name": "Python 3 (ipykernel)",
   "language": "python",
   "name": "python3"
  },
  "language_info": {
   "codemirror_mode": {
    "name": "ipython",
    "version": 3
   },
   "file_extension": ".py",
   "mimetype": "text/x-python",
   "name": "python",
   "nbconvert_exporter": "python",
   "pygments_lexer": "ipython3",
   "version": "3.12.6"
  }
 },
 "nbformat": 4,
 "nbformat_minor": 5
}
